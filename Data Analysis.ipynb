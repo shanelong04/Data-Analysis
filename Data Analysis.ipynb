{
 "cells": [
  {
   "cell_type": "markdown",
   "id": "f564c00d",
   "metadata": {},
   "source": [
    "<img src=\"https://user-images.githubusercontent.com/7065401/58563302-42466a80-8201-11e9-9948-b3e9f88a5662.jpg\"\n",
    "    style=\"width:400px; float: right; margin: 0 40px 40px 40px;\"></img>\n",
    "\n",
    "# Bike store sales\n",
    "\n",
    "Analyzing sales made on bike stores."
   ]
  },
  {
   "cell_type": "code",
   "execution_count": 1,
   "id": "c16118a4",
   "metadata": {},
   "outputs": [],
   "source": [
    "import numpy as np\n",
    "import pandas as pd\n",
    "import matplotlib.pyplot as plt\n",
    "\n",
    "%matplotlib inline"
   ]
  },
  {
   "cell_type": "markdown",
   "id": "e815b01a",
   "metadata": {},
   "source": [
    "## Loading data:"
   ]
  },
  {
   "cell_type": "code",
   "execution_count": 2,
   "id": "a8771299",
   "metadata": {},
   "outputs": [],
   "source": [
    "sales = pd.read_csv(  'data/sales_data.csv',parse_dates=['Date'])"
   ]
  },
  {
   "cell_type": "code",
   "execution_count": 3,
   "id": "fc8ee736",
   "metadata": {},
   "outputs": [
    {
     "data": {
      "text/html": [
       "<div>\n",
       "<style scoped>\n",
       "    .dataframe tbody tr th:only-of-type {\n",
       "        vertical-align: middle;\n",
       "    }\n",
       "\n",
       "    .dataframe tbody tr th {\n",
       "        vertical-align: top;\n",
       "    }\n",
       "\n",
       "    .dataframe thead th {\n",
       "        text-align: right;\n",
       "    }\n",
       "</style>\n",
       "<table border=\"1\" class=\"dataframe\">\n",
       "  <thead>\n",
       "    <tr style=\"text-align: right;\">\n",
       "      <th></th>\n",
       "      <th>Date</th>\n",
       "      <th>Day</th>\n",
       "      <th>Month</th>\n",
       "      <th>Year</th>\n",
       "      <th>Customer_Age</th>\n",
       "      <th>Age_Group</th>\n",
       "      <th>Customer_Gender</th>\n",
       "      <th>Country</th>\n",
       "      <th>State</th>\n",
       "      <th>Product_Category</th>\n",
       "      <th>Sub_Category</th>\n",
       "      <th>Product</th>\n",
       "      <th>Order_Quantity</th>\n",
       "      <th>Unit_Cost</th>\n",
       "      <th>Unit_Price</th>\n",
       "      <th>Profit</th>\n",
       "      <th>Cost</th>\n",
       "      <th>Revenue</th>\n",
       "    </tr>\n",
       "  </thead>\n",
       "  <tbody>\n",
       "    <tr>\n",
       "      <th>0</th>\n",
       "      <td>2013-11-26</td>\n",
       "      <td>26</td>\n",
       "      <td>November</td>\n",
       "      <td>2013</td>\n",
       "      <td>19</td>\n",
       "      <td>Youth (&lt;25)</td>\n",
       "      <td>M</td>\n",
       "      <td>Canada</td>\n",
       "      <td>British Columbia</td>\n",
       "      <td>Accessories</td>\n",
       "      <td>Bike Racks</td>\n",
       "      <td>Hitch Rack - 4-Bike</td>\n",
       "      <td>8</td>\n",
       "      <td>45</td>\n",
       "      <td>120</td>\n",
       "      <td>590</td>\n",
       "      <td>360</td>\n",
       "      <td>950</td>\n",
       "    </tr>\n",
       "    <tr>\n",
       "      <th>1</th>\n",
       "      <td>2015-11-26</td>\n",
       "      <td>26</td>\n",
       "      <td>November</td>\n",
       "      <td>2015</td>\n",
       "      <td>19</td>\n",
       "      <td>Youth (&lt;25)</td>\n",
       "      <td>M</td>\n",
       "      <td>Canada</td>\n",
       "      <td>British Columbia</td>\n",
       "      <td>Accessories</td>\n",
       "      <td>Bike Racks</td>\n",
       "      <td>Hitch Rack - 4-Bike</td>\n",
       "      <td>8</td>\n",
       "      <td>45</td>\n",
       "      <td>120</td>\n",
       "      <td>590</td>\n",
       "      <td>360</td>\n",
       "      <td>950</td>\n",
       "    </tr>\n",
       "    <tr>\n",
       "      <th>2</th>\n",
       "      <td>2014-03-23</td>\n",
       "      <td>23</td>\n",
       "      <td>March</td>\n",
       "      <td>2014</td>\n",
       "      <td>49</td>\n",
       "      <td>Adults (35-64)</td>\n",
       "      <td>M</td>\n",
       "      <td>Australia</td>\n",
       "      <td>New South Wales</td>\n",
       "      <td>Accessories</td>\n",
       "      <td>Bike Racks</td>\n",
       "      <td>Hitch Rack - 4-Bike</td>\n",
       "      <td>23</td>\n",
       "      <td>45</td>\n",
       "      <td>120</td>\n",
       "      <td>1366</td>\n",
       "      <td>1035</td>\n",
       "      <td>2401</td>\n",
       "    </tr>\n",
       "    <tr>\n",
       "      <th>3</th>\n",
       "      <td>2016-03-23</td>\n",
       "      <td>23</td>\n",
       "      <td>March</td>\n",
       "      <td>2016</td>\n",
       "      <td>49</td>\n",
       "      <td>Adults (35-64)</td>\n",
       "      <td>M</td>\n",
       "      <td>Australia</td>\n",
       "      <td>New South Wales</td>\n",
       "      <td>Accessories</td>\n",
       "      <td>Bike Racks</td>\n",
       "      <td>Hitch Rack - 4-Bike</td>\n",
       "      <td>20</td>\n",
       "      <td>45</td>\n",
       "      <td>120</td>\n",
       "      <td>1188</td>\n",
       "      <td>900</td>\n",
       "      <td>2088</td>\n",
       "    </tr>\n",
       "    <tr>\n",
       "      <th>4</th>\n",
       "      <td>2014-05-15</td>\n",
       "      <td>15</td>\n",
       "      <td>May</td>\n",
       "      <td>2014</td>\n",
       "      <td>47</td>\n",
       "      <td>Adults (35-64)</td>\n",
       "      <td>F</td>\n",
       "      <td>Australia</td>\n",
       "      <td>New South Wales</td>\n",
       "      <td>Accessories</td>\n",
       "      <td>Bike Racks</td>\n",
       "      <td>Hitch Rack - 4-Bike</td>\n",
       "      <td>4</td>\n",
       "      <td>45</td>\n",
       "      <td>120</td>\n",
       "      <td>238</td>\n",
       "      <td>180</td>\n",
       "      <td>418</td>\n",
       "    </tr>\n",
       "  </tbody>\n",
       "</table>\n",
       "</div>"
      ],
      "text/plain": [
       "        Date  Day     Month  Year  Customer_Age       Age_Group  \\\n",
       "0 2013-11-26   26  November  2013            19     Youth (<25)   \n",
       "1 2015-11-26   26  November  2015            19     Youth (<25)   \n",
       "2 2014-03-23   23     March  2014            49  Adults (35-64)   \n",
       "3 2016-03-23   23     March  2016            49  Adults (35-64)   \n",
       "4 2014-05-15   15       May  2014            47  Adults (35-64)   \n",
       "\n",
       "  Customer_Gender    Country             State Product_Category Sub_Category  \\\n",
       "0               M     Canada  British Columbia      Accessories   Bike Racks   \n",
       "1               M     Canada  British Columbia      Accessories   Bike Racks   \n",
       "2               M  Australia   New South Wales      Accessories   Bike Racks   \n",
       "3               M  Australia   New South Wales      Accessories   Bike Racks   \n",
       "4               F  Australia   New South Wales      Accessories   Bike Racks   \n",
       "\n",
       "               Product  Order_Quantity  Unit_Cost  Unit_Price  Profit  Cost  \\\n",
       "0  Hitch Rack - 4-Bike               8         45         120     590   360   \n",
       "1  Hitch Rack - 4-Bike               8         45         120     590   360   \n",
       "2  Hitch Rack - 4-Bike              23         45         120    1366  1035   \n",
       "3  Hitch Rack - 4-Bike              20         45         120    1188   900   \n",
       "4  Hitch Rack - 4-Bike               4         45         120     238   180   \n",
       "\n",
       "   Revenue  \n",
       "0      950  \n",
       "1      950  \n",
       "2     2401  \n",
       "3     2088  \n",
       "4      418  "
      ]
     },
     "execution_count": 3,
     "metadata": {},
     "output_type": "execute_result"
    }
   ],
   "source": [
    "sales.head()"
   ]
  },
  {
   "cell_type": "code",
   "execution_count": 11,
   "id": "16d36a36",
   "metadata": {},
   "outputs": [
    {
     "data": {
      "text/plain": [
       "(113036, 18)"
      ]
     },
     "execution_count": 11,
     "metadata": {},
     "output_type": "execute_result"
    }
   ],
   "source": [
    "sales.shape"
   ]
  },
  {
   "cell_type": "code",
   "execution_count": 12,
   "id": "de55da62",
   "metadata": {},
   "outputs": [
    {
     "name": "stdout",
     "output_type": "stream",
     "text": [
      "<class 'pandas.core.frame.DataFrame'>\n",
      "RangeIndex: 113036 entries, 0 to 113035\n",
      "Data columns (total 18 columns):\n",
      " #   Column            Non-Null Count   Dtype \n",
      "---  ------            --------------   ----- \n",
      " 0   Date              113036 non-null  object\n",
      " 1   Day               113036 non-null  int64 \n",
      " 2   Month             113036 non-null  object\n",
      " 3   Year              113036 non-null  int64 \n",
      " 4   Customer_Age      113036 non-null  int64 \n",
      " 5   Age_Group         113036 non-null  object\n",
      " 6   Customer_Gender   113036 non-null  object\n",
      " 7   Country           113036 non-null  object\n",
      " 8   State             113036 non-null  object\n",
      " 9   Product_Category  113036 non-null  object\n",
      " 10  Sub_Category      113036 non-null  object\n",
      " 11  Product           113036 non-null  object\n",
      " 12  Order_Quantity    113036 non-null  int64 \n",
      " 13  Unit_Cost         113036 non-null  int64 \n",
      " 14  Unit_Price        113036 non-null  int64 \n",
      " 15  Profit            113036 non-null  int64 \n",
      " 16  Cost              113036 non-null  int64 \n",
      " 17  Revenue           113036 non-null  int64 \n",
      "dtypes: int64(9), object(9)\n",
      "memory usage: 15.5+ MB\n"
     ]
    }
   ],
   "source": [
    "sales.info()"
   ]
  },
  {
   "cell_type": "code",
   "execution_count": 13,
   "id": "210e3f46",
   "metadata": {},
   "outputs": [
    {
     "data": {
      "text/html": [
       "<div>\n",
       "<style scoped>\n",
       "    .dataframe tbody tr th:only-of-type {\n",
       "        vertical-align: middle;\n",
       "    }\n",
       "\n",
       "    .dataframe tbody tr th {\n",
       "        vertical-align: top;\n",
       "    }\n",
       "\n",
       "    .dataframe thead th {\n",
       "        text-align: right;\n",
       "    }\n",
       "</style>\n",
       "<table border=\"1\" class=\"dataframe\">\n",
       "  <thead>\n",
       "    <tr style=\"text-align: right;\">\n",
       "      <th></th>\n",
       "      <th>Day</th>\n",
       "      <th>Year</th>\n",
       "      <th>Customer_Age</th>\n",
       "      <th>Order_Quantity</th>\n",
       "      <th>Unit_Cost</th>\n",
       "      <th>Unit_Price</th>\n",
       "      <th>Profit</th>\n",
       "      <th>Cost</th>\n",
       "      <th>Revenue</th>\n",
       "    </tr>\n",
       "  </thead>\n",
       "  <tbody>\n",
       "    <tr>\n",
       "      <th>count</th>\n",
       "      <td>113036.000000</td>\n",
       "      <td>113036.000000</td>\n",
       "      <td>113036.000000</td>\n",
       "      <td>113036.000000</td>\n",
       "      <td>113036.000000</td>\n",
       "      <td>113036.000000</td>\n",
       "      <td>113036.000000</td>\n",
       "      <td>113036.000000</td>\n",
       "      <td>113036.000000</td>\n",
       "    </tr>\n",
       "    <tr>\n",
       "      <th>mean</th>\n",
       "      <td>15.665753</td>\n",
       "      <td>2014.401739</td>\n",
       "      <td>35.919212</td>\n",
       "      <td>11.901660</td>\n",
       "      <td>267.296366</td>\n",
       "      <td>452.938427</td>\n",
       "      <td>285.051665</td>\n",
       "      <td>469.318695</td>\n",
       "      <td>754.370360</td>\n",
       "    </tr>\n",
       "    <tr>\n",
       "      <th>std</th>\n",
       "      <td>8.781567</td>\n",
       "      <td>1.272510</td>\n",
       "      <td>11.021936</td>\n",
       "      <td>9.561857</td>\n",
       "      <td>549.835483</td>\n",
       "      <td>922.071219</td>\n",
       "      <td>453.887443</td>\n",
       "      <td>884.866118</td>\n",
       "      <td>1309.094674</td>\n",
       "    </tr>\n",
       "    <tr>\n",
       "      <th>min</th>\n",
       "      <td>1.000000</td>\n",
       "      <td>2011.000000</td>\n",
       "      <td>17.000000</td>\n",
       "      <td>1.000000</td>\n",
       "      <td>1.000000</td>\n",
       "      <td>2.000000</td>\n",
       "      <td>-30.000000</td>\n",
       "      <td>1.000000</td>\n",
       "      <td>2.000000</td>\n",
       "    </tr>\n",
       "    <tr>\n",
       "      <th>25%</th>\n",
       "      <td>8.000000</td>\n",
       "      <td>2013.000000</td>\n",
       "      <td>28.000000</td>\n",
       "      <td>2.000000</td>\n",
       "      <td>2.000000</td>\n",
       "      <td>5.000000</td>\n",
       "      <td>29.000000</td>\n",
       "      <td>28.000000</td>\n",
       "      <td>63.000000</td>\n",
       "    </tr>\n",
       "    <tr>\n",
       "      <th>50%</th>\n",
       "      <td>16.000000</td>\n",
       "      <td>2014.000000</td>\n",
       "      <td>35.000000</td>\n",
       "      <td>10.000000</td>\n",
       "      <td>9.000000</td>\n",
       "      <td>24.000000</td>\n",
       "      <td>101.000000</td>\n",
       "      <td>108.000000</td>\n",
       "      <td>223.000000</td>\n",
       "    </tr>\n",
       "    <tr>\n",
       "      <th>75%</th>\n",
       "      <td>23.000000</td>\n",
       "      <td>2016.000000</td>\n",
       "      <td>43.000000</td>\n",
       "      <td>20.000000</td>\n",
       "      <td>42.000000</td>\n",
       "      <td>70.000000</td>\n",
       "      <td>358.000000</td>\n",
       "      <td>432.000000</td>\n",
       "      <td>800.000000</td>\n",
       "    </tr>\n",
       "    <tr>\n",
       "      <th>max</th>\n",
       "      <td>31.000000</td>\n",
       "      <td>2016.000000</td>\n",
       "      <td>87.000000</td>\n",
       "      <td>32.000000</td>\n",
       "      <td>2171.000000</td>\n",
       "      <td>3578.000000</td>\n",
       "      <td>15096.000000</td>\n",
       "      <td>42978.000000</td>\n",
       "      <td>58074.000000</td>\n",
       "    </tr>\n",
       "  </tbody>\n",
       "</table>\n",
       "</div>"
      ],
      "text/plain": [
       "                 Day           Year   Customer_Age  Order_Quantity  \\\n",
       "count  113036.000000  113036.000000  113036.000000   113036.000000   \n",
       "mean       15.665753    2014.401739      35.919212       11.901660   \n",
       "std         8.781567       1.272510      11.021936        9.561857   \n",
       "min         1.000000    2011.000000      17.000000        1.000000   \n",
       "25%         8.000000    2013.000000      28.000000        2.000000   \n",
       "50%        16.000000    2014.000000      35.000000       10.000000   \n",
       "75%        23.000000    2016.000000      43.000000       20.000000   \n",
       "max        31.000000    2016.000000      87.000000       32.000000   \n",
       "\n",
       "           Unit_Cost     Unit_Price         Profit           Cost  \\\n",
       "count  113036.000000  113036.000000  113036.000000  113036.000000   \n",
       "mean      267.296366     452.938427     285.051665     469.318695   \n",
       "std       549.835483     922.071219     453.887443     884.866118   \n",
       "min         1.000000       2.000000     -30.000000       1.000000   \n",
       "25%         2.000000       5.000000      29.000000      28.000000   \n",
       "50%         9.000000      24.000000     101.000000     108.000000   \n",
       "75%        42.000000      70.000000     358.000000     432.000000   \n",
       "max      2171.000000    3578.000000   15096.000000   42978.000000   \n",
       "\n",
       "             Revenue  \n",
       "count  113036.000000  \n",
       "mean      754.370360  \n",
       "std      1309.094674  \n",
       "min         2.000000  \n",
       "25%        63.000000  \n",
       "50%       223.000000  \n",
       "75%       800.000000  \n",
       "max     58074.000000  "
      ]
     },
     "execution_count": 13,
     "metadata": {},
     "output_type": "execute_result"
    }
   ],
   "source": [
    "sales.describe()"
   ]
  },
  {
   "cell_type": "code",
   "execution_count": 14,
   "id": "def42bc6",
   "metadata": {},
   "outputs": [
    {
     "data": {
      "text/plain": [
       "count    113036.000000\n",
       "mean        267.296366\n",
       "std         549.835483\n",
       "min           1.000000\n",
       "25%           2.000000\n",
       "50%           9.000000\n",
       "75%          42.000000\n",
       "max        2171.000000\n",
       "Name: Unit_Cost, dtype: float64"
      ]
     },
     "execution_count": 14,
     "metadata": {},
     "output_type": "execute_result"
    }
   ],
   "source": [
    "sales['Unit_Cost'].describe()"
   ]
  },
  {
   "cell_type": "code",
   "execution_count": 15,
   "id": "1fe45ccc",
   "metadata": {},
   "outputs": [
    {
     "data": {
      "text/plain": [
       "9.0"
      ]
     },
     "execution_count": 15,
     "metadata": {},
     "output_type": "execute_result"
    }
   ],
   "source": [
    "sales['Unit_Cost'].median()"
   ]
  },
  {
   "cell_type": "markdown",
   "id": "70a770cb",
   "metadata": {},
   "source": [
    "##  Visualization:"
   ]
  },
  {
   "cell_type": "code",
   "execution_count": 17,
   "id": "e8264957",
   "metadata": {},
   "outputs": [
    {
     "data": {
      "text/plain": [
       "<AxesSubplot:>"
      ]
     },
     "execution_count": 17,
     "metadata": {},
     "output_type": "execute_result"
    },
    {
     "data": {
      "image/png": "[encoded data removed]",
      "text/plain": [
       "<Figure size 1008x432 with 1 Axes>"
      ]
     },
     "metadata": {
      "needs_background": "light"
     },
     "output_type": "display_data"
    }
   ],
   "source": [
    "sales['Unit_Cost'].plot(kind='box', vert=False, figsize=(14,6))"
   ]
  },
  {
   "cell_type": "code",
   "execution_count": 19,
   "id": "2d9d34c9",
   "metadata": {},
   "outputs": [
    {
     "data": {
      "text/plain": [
       "<AxesSubplot:ylabel='Density'>"
      ]
     },
     "execution_count": 19,
     "metadata": {},
     "output_type": "execute_result"
    },
    {
     "data": {
      "image/png": "[encoded data removed]",
      "text/plain": [
       "<Figure size 1008x432 with 1 Axes>"
      ]
     },
     "metadata": {
      "needs_background": "light"
     },
     "output_type": "display_data"
    }
   ],
   "source": [
    "sales['Unit_Cost'].plot(kind='density', figsize=(14,6)) # kde"
   ]
  },
  {
   "cell_type": "code",
   "execution_count": 20,
   "id": "13743ca0",
   "metadata": {},
   "outputs": [
    {
     "data": {
      "text/plain": [
       "<matplotlib.lines.Line2D at 0x174aa107850>"
      ]
     },
     "execution_count": 20,
     "metadata": {},
     "output_type": "execute_result"
    },
    {
     "data": {
      "image/png": "[encoded data removed]",
      "text/plain": [
       "<Figure size 1008x432 with 1 Axes>"
      ]
     },
     "metadata": {
      "needs_background": "light"
     },
     "output_type": "display_data"
    }
   ],
   "source": [
    "ax = sales['Unit_Cost'].plot(kind='density', figsize=(14,6)) # kde\n",
    "ax.axvline(sales['Unit_Cost'].mean(), color='red')\n",
    "ax.axvline(sales['Unit_Cost'].median(), color='green')"
   ]
  },
  {
   "cell_type": "code",
   "execution_count": 21,
   "id": "1527b3e4",
   "metadata": {},
   "outputs": [
    {
     "data": {
      "text/plain": [
       "Text(0.5, 0, 'Dollars')"
      ]
     },
     "execution_count": 21,
     "metadata": {},
     "output_type": "execute_result"
    },
    {
     "data": {
      "image/png": "[encoded data removed]",
      "text/plain": [
       "<Figure size 1008x432 with 1 Axes>"
      ]
     },
     "metadata": {
      "needs_background": "light"
     },
     "output_type": "display_data"
    }
   ],
   "source": [
    "ax = sales['Unit_Cost'].plot(kind='hist', figsize=(14,6))\n",
    "ax.set_ylabel('Number of Sales')\n",
    "ax.set_xlabel('Dollars')"
   ]
  },
  {
   "cell_type": "markdown",
   "id": "57da8b56",
   "metadata": {},
   "source": [
    "## Categorical Analysis and Visualization"
   ]
  },
  {
   "cell_type": "code",
   "execution_count": 22,
   "id": "4215db4e",
   "metadata": {},
   "outputs": [
    {
     "data": {
      "text/html": [
       "<div>\n",
       "<style scoped>\n",
       "    .dataframe tbody tr th:only-of-type {\n",
       "        vertical-align: middle;\n",
       "    }\n",
       "\n",
       "    .dataframe tbody tr th {\n",
       "        vertical-align: top;\n",
       "    }\n",
       "\n",
       "    .dataframe thead th {\n",
       "        text-align: right;\n",
       "    }\n",
       "</style>\n",
       "<table border=\"1\" class=\"dataframe\">\n",
       "  <thead>\n",
       "    <tr style=\"text-align: right;\">\n",
       "      <th></th>\n",
       "      <th>Date</th>\n",
       "      <th>Day</th>\n",
       "      <th>Month</th>\n",
       "      <th>Year</th>\n",
       "      <th>Customer_Age</th>\n",
       "      <th>Age_Group</th>\n",
       "      <th>Customer_Gender</th>\n",
       "      <th>Country</th>\n",
       "      <th>State</th>\n",
       "      <th>Product_Category</th>\n",
       "      <th>Sub_Category</th>\n",
       "      <th>Product</th>\n",
       "      <th>Order_Quantity</th>\n",
       "      <th>Unit_Cost</th>\n",
       "      <th>Unit_Price</th>\n",
       "      <th>Profit</th>\n",
       "      <th>Cost</th>\n",
       "      <th>Revenue</th>\n",
       "    </tr>\n",
       "  </thead>\n",
       "  <tbody>\n",
       "    <tr>\n",
       "      <th>0</th>\n",
       "      <td>2013-11-26</td>\n",
       "      <td>26</td>\n",
       "      <td>November</td>\n",
       "      <td>2013</td>\n",
       "      <td>19</td>\n",
       "      <td>Youth (&lt;25)</td>\n",
       "      <td>M</td>\n",
       "      <td>Canada</td>\n",
       "      <td>British Columbia</td>\n",
       "      <td>Accessories</td>\n",
       "      <td>Bike Racks</td>\n",
       "      <td>Hitch Rack - 4-Bike</td>\n",
       "      <td>8</td>\n",
       "      <td>45</td>\n",
       "      <td>120</td>\n",
       "      <td>590</td>\n",
       "      <td>360</td>\n",
       "      <td>950</td>\n",
       "    </tr>\n",
       "    <tr>\n",
       "      <th>1</th>\n",
       "      <td>2015-11-26</td>\n",
       "      <td>26</td>\n",
       "      <td>November</td>\n",
       "      <td>2015</td>\n",
       "      <td>19</td>\n",
       "      <td>Youth (&lt;25)</td>\n",
       "      <td>M</td>\n",
       "      <td>Canada</td>\n",
       "      <td>British Columbia</td>\n",
       "      <td>Accessories</td>\n",
       "      <td>Bike Racks</td>\n",
       "      <td>Hitch Rack - 4-Bike</td>\n",
       "      <td>8</td>\n",
       "      <td>45</td>\n",
       "      <td>120</td>\n",
       "      <td>590</td>\n",
       "      <td>360</td>\n",
       "      <td>950</td>\n",
       "    </tr>\n",
       "    <tr>\n",
       "      <th>2</th>\n",
       "      <td>2014-03-23</td>\n",
       "      <td>23</td>\n",
       "      <td>March</td>\n",
       "      <td>2014</td>\n",
       "      <td>49</td>\n",
       "      <td>Adults (35-64)</td>\n",
       "      <td>M</td>\n",
       "      <td>Australia</td>\n",
       "      <td>New South Wales</td>\n",
       "      <td>Accessories</td>\n",
       "      <td>Bike Racks</td>\n",
       "      <td>Hitch Rack - 4-Bike</td>\n",
       "      <td>23</td>\n",
       "      <td>45</td>\n",
       "      <td>120</td>\n",
       "      <td>1366</td>\n",
       "      <td>1035</td>\n",
       "      <td>2401</td>\n",
       "    </tr>\n",
       "    <tr>\n",
       "      <th>3</th>\n",
       "      <td>2016-03-23</td>\n",
       "      <td>23</td>\n",
       "      <td>March</td>\n",
       "      <td>2016</td>\n",
       "      <td>49</td>\n",
       "      <td>Adults (35-64)</td>\n",
       "      <td>M</td>\n",
       "      <td>Australia</td>\n",
       "      <td>New South Wales</td>\n",
       "      <td>Accessories</td>\n",
       "      <td>Bike Racks</td>\n",
       "      <td>Hitch Rack - 4-Bike</td>\n",
       "      <td>20</td>\n",
       "      <td>45</td>\n",
       "      <td>120</td>\n",
       "      <td>1188</td>\n",
       "      <td>900</td>\n",
       "      <td>2088</td>\n",
       "    </tr>\n",
       "    <tr>\n",
       "      <th>4</th>\n",
       "      <td>2014-05-15</td>\n",
       "      <td>15</td>\n",
       "      <td>May</td>\n",
       "      <td>2014</td>\n",
       "      <td>47</td>\n",
       "      <td>Adults (35-64)</td>\n",
       "      <td>F</td>\n",
       "      <td>Australia</td>\n",
       "      <td>New South Wales</td>\n",
       "      <td>Accessories</td>\n",
       "      <td>Bike Racks</td>\n",
       "      <td>Hitch Rack - 4-Bike</td>\n",
       "      <td>4</td>\n",
       "      <td>45</td>\n",
       "      <td>120</td>\n",
       "      <td>238</td>\n",
       "      <td>180</td>\n",
       "      <td>418</td>\n",
       "    </tr>\n",
       "  </tbody>\n",
       "</table>\n",
       "</div>"
      ],
      "text/plain": [
       "         Date  Day     Month  Year  Customer_Age       Age_Group  \\\n",
       "0  2013-11-26   26  November  2013            19     Youth (<25)   \n",
       "1  2015-11-26   26  November  2015            19     Youth (<25)   \n",
       "2  2014-03-23   23     March  2014            49  Adults (35-64)   \n",
       "3  2016-03-23   23     March  2016            49  Adults (35-64)   \n",
       "4  2014-05-15   15       May  2014            47  Adults (35-64)   \n",
       "\n",
       "  Customer_Gender    Country             State Product_Category Sub_Category  \\\n",
       "0               M     Canada  British Columbia      Accessories   Bike Racks   \n",
       "1               M     Canada  British Columbia      Accessories   Bike Racks   \n",
       "2               M  Australia   New South Wales      Accessories   Bike Racks   \n",
       "3               M  Australia   New South Wales      Accessories   Bike Racks   \n",
       "4               F  Australia   New South Wales      Accessories   Bike Racks   \n",
       "\n",
       "               Product  Order_Quantity  Unit_Cost  Unit_Price  Profit  Cost  \\\n",
       "0  Hitch Rack - 4-Bike               8         45         120     590   360   \n",
       "1  Hitch Rack - 4-Bike               8         45         120     590   360   \n",
       "2  Hitch Rack - 4-Bike              23         45         120    1366  1035   \n",
       "3  Hitch Rack - 4-Bike              20         45         120    1188   900   \n",
       "4  Hitch Rack - 4-Bike               4         45         120     238   180   \n",
       "\n",
       "   Revenue  \n",
       "0      950  \n",
       "1      950  \n",
       "2     2401  \n",
       "3     2088  \n",
       "4      418  "
      ]
     },
     "execution_count": 22,
     "metadata": {},
     "output_type": "execute_result"
    }
   ],
   "source": [
    "sales.head()"
   ]
  },
  {
   "cell_type": "code",
   "execution_count": 23,
   "id": "e6cb5a25",
   "metadata": {},
   "outputs": [
    {
     "data": {
      "text/plain": [
       "Adults (35-64)          55824\n",
       "Young Adults (25-34)    38654\n",
       "Youth (<25)             17828\n",
       "Seniors (64+)             730\n",
       "Name: Age_Group, dtype: int64"
      ]
     },
     "execution_count": 23,
     "metadata": {},
     "output_type": "execute_result"
    }
   ],
   "source": [
    "sales['Age_Group'].value_counts()"
   ]
  },
  {
   "cell_type": "code",
   "execution_count": 27,
   "id": "9774042c",
   "metadata": {},
   "outputs": [
    {
     "data": {
      "text/plain": [
       "<AxesSubplot:ylabel='Age_Group'>"
      ]
     },
     "execution_count": 27,
     "metadata": {},
     "output_type": "execute_result"
    },
    {
     "data": {
      "image/png": "[encoded data removed]",
      "text/plain": [
       "<Figure size 432x432 with 1 Axes>"
      ]
     },
     "metadata": {},
     "output_type": "display_data"
    }
   ],
   "source": [
    "sales['Age_Group'].value_counts().plot(kind='pie', figsize=(6,6))"
   ]
  },
  {
   "cell_type": "code",
   "execution_count": 30,
   "id": "25ccdc10",
   "metadata": {},
   "outputs": [
    {
     "data": {
      "text/plain": [
       "Text(0, 0.5, 'Number of Sales')"
      ]
     },
     "execution_count": 30,
     "metadata": {},
     "output_type": "execute_result"
    },
    {
     "data": {
      "image/png": "[encoded data removed]",
      "text/plain": [
       "<Figure size 1008x432 with 1 Axes>"
      ]
     },
     "metadata": {
      "needs_background": "light"
     },
     "output_type": "display_data"
    }
   ],
   "source": [
    "ax = sales['Age_Group'].value_counts().plot(kind='bar', figsize=(14,6))\n",
    "ax.set_ylabel('Number of Sales')"
   ]
  },
  {
   "cell_type": "markdown",
   "id": "d117e855",
   "metadata": {},
   "source": [
    "\n",
    "## Relationship between the columns"
   ]
  },
  {
   "cell_type": "code",
   "execution_count": 32,
   "id": "11bb27eb",
   "metadata": {},
   "outputs": [
    {
     "data": {
      "text/html": [
       "<div>\n",
       "<style scoped>\n",
       "    .dataframe tbody tr th:only-of-type {\n",
       "        vertical-align: middle;\n",
       "    }\n",
       "\n",
       "    .dataframe tbody tr th {\n",
       "        vertical-align: top;\n",
       "    }\n",
       "\n",
       "    .dataframe thead th {\n",
       "        text-align: right;\n",
       "    }\n",
       "</style>\n",
       "<table border=\"1\" class=\"dataframe\">\n",
       "  <thead>\n",
       "    <tr style=\"text-align: right;\">\n",
       "      <th></th>\n",
       "      <th>Day</th>\n",
       "      <th>Year</th>\n",
       "      <th>Customer_Age</th>\n",
       "      <th>Order_Quantity</th>\n",
       "      <th>Unit_Cost</th>\n",
       "      <th>Unit_Price</th>\n",
       "      <th>Profit</th>\n",
       "      <th>Cost</th>\n",
       "      <th>Revenue</th>\n",
       "    </tr>\n",
       "  </thead>\n",
       "  <tbody>\n",
       "    <tr>\n",
       "      <th>Day</th>\n",
       "      <td>1.000000</td>\n",
       "      <td>-0.007635</td>\n",
       "      <td>-0.014296</td>\n",
       "      <td>-0.002412</td>\n",
       "      <td>0.003133</td>\n",
       "      <td>0.003207</td>\n",
       "      <td>0.004623</td>\n",
       "      <td>0.003329</td>\n",
       "      <td>0.003853</td>\n",
       "    </tr>\n",
       "    <tr>\n",
       "      <th>Year</th>\n",
       "      <td>-0.007635</td>\n",
       "      <td>1.000000</td>\n",
       "      <td>0.040994</td>\n",
       "      <td>0.123169</td>\n",
       "      <td>-0.217575</td>\n",
       "      <td>-0.213673</td>\n",
       "      <td>-0.181525</td>\n",
       "      <td>-0.215604</td>\n",
       "      <td>-0.208673</td>\n",
       "    </tr>\n",
       "    <tr>\n",
       "      <th>Customer_Age</th>\n",
       "      <td>-0.014296</td>\n",
       "      <td>0.040994</td>\n",
       "      <td>1.000000</td>\n",
       "      <td>0.026887</td>\n",
       "      <td>-0.021374</td>\n",
       "      <td>-0.020262</td>\n",
       "      <td>0.004319</td>\n",
       "      <td>-0.016013</td>\n",
       "      <td>-0.009326</td>\n",
       "    </tr>\n",
       "    <tr>\n",
       "      <th>Order_Quantity</th>\n",
       "      <td>-0.002412</td>\n",
       "      <td>0.123169</td>\n",
       "      <td>0.026887</td>\n",
       "      <td>1.000000</td>\n",
       "      <td>-0.515835</td>\n",
       "      <td>-0.515925</td>\n",
       "      <td>-0.238863</td>\n",
       "      <td>-0.340382</td>\n",
       "      <td>-0.312895</td>\n",
       "    </tr>\n",
       "    <tr>\n",
       "      <th>Unit_Cost</th>\n",
       "      <td>0.003133</td>\n",
       "      <td>-0.217575</td>\n",
       "      <td>-0.021374</td>\n",
       "      <td>-0.515835</td>\n",
       "      <td>1.000000</td>\n",
       "      <td>0.997894</td>\n",
       "      <td>0.741020</td>\n",
       "      <td>0.829869</td>\n",
       "      <td>0.817865</td>\n",
       "    </tr>\n",
       "    <tr>\n",
       "      <th>Unit_Price</th>\n",
       "      <td>0.003207</td>\n",
       "      <td>-0.213673</td>\n",
       "      <td>-0.020262</td>\n",
       "      <td>-0.515925</td>\n",
       "      <td>0.997894</td>\n",
       "      <td>1.000000</td>\n",
       "      <td>0.749870</td>\n",
       "      <td>0.826301</td>\n",
       "      <td>0.818522</td>\n",
       "    </tr>\n",
       "    <tr>\n",
       "      <th>Profit</th>\n",
       "      <td>0.004623</td>\n",
       "      <td>-0.181525</td>\n",
       "      <td>0.004319</td>\n",
       "      <td>-0.238863</td>\n",
       "      <td>0.741020</td>\n",
       "      <td>0.749870</td>\n",
       "      <td>1.000000</td>\n",
       "      <td>0.902233</td>\n",
       "      <td>0.956572</td>\n",
       "    </tr>\n",
       "    <tr>\n",
       "      <th>Cost</th>\n",
       "      <td>0.003329</td>\n",
       "      <td>-0.215604</td>\n",
       "      <td>-0.016013</td>\n",
       "      <td>-0.340382</td>\n",
       "      <td>0.829869</td>\n",
       "      <td>0.826301</td>\n",
       "      <td>0.902233</td>\n",
       "      <td>1.000000</td>\n",
       "      <td>0.988758</td>\n",
       "    </tr>\n",
       "    <tr>\n",
       "      <th>Revenue</th>\n",
       "      <td>0.003853</td>\n",
       "      <td>-0.208673</td>\n",
       "      <td>-0.009326</td>\n",
       "      <td>-0.312895</td>\n",
       "      <td>0.817865</td>\n",
       "      <td>0.818522</td>\n",
       "      <td>0.956572</td>\n",
       "      <td>0.988758</td>\n",
       "      <td>1.000000</td>\n",
       "    </tr>\n",
       "  </tbody>\n",
       "</table>\n",
       "</div>"
      ],
      "text/plain": [
       "                     Day      Year  Customer_Age  Order_Quantity  Unit_Cost  \\\n",
       "Day             1.000000 -0.007635     -0.014296       -0.002412   0.003133   \n",
       "Year           -0.007635  1.000000      0.040994        0.123169  -0.217575   \n",
       "Customer_Age   -0.014296  0.040994      1.000000        0.026887  -0.021374   \n",
       "Order_Quantity -0.002412  0.123169      0.026887        1.000000  -0.515835   \n",
       "Unit_Cost       0.003133 -0.217575     -0.021374       -0.515835   1.000000   \n",
       "Unit_Price      0.003207 -0.213673     -0.020262       -0.515925   0.997894   \n",
       "Profit          0.004623 -0.181525      0.004319       -0.238863   0.741020   \n",
       "Cost            0.003329 -0.215604     -0.016013       -0.340382   0.829869   \n",
       "Revenue         0.003853 -0.208673     -0.009326       -0.312895   0.817865   \n",
       "\n",
       "                Unit_Price    Profit      Cost   Revenue  \n",
       "Day               0.003207  0.004623  0.003329  0.003853  \n",
       "Year             -0.213673 -0.181525 -0.215604 -0.208673  \n",
       "Customer_Age     -0.020262  0.004319 -0.016013 -0.009326  \n",
       "Order_Quantity   -0.515925 -0.238863 -0.340382 -0.312895  \n",
       "Unit_Cost         0.997894  0.741020  0.829869  0.817865  \n",
       "Unit_Price        1.000000  0.749870  0.826301  0.818522  \n",
       "Profit            0.749870  1.000000  0.902233  0.956572  \n",
       "Cost              0.826301  0.902233  1.000000  0.988758  \n",
       "Revenue           0.818522  0.956572  0.988758  1.000000  "
      ]
     },
     "execution_count": 32,
     "metadata": {},
     "output_type": "execute_result"
    }
   ],
   "source": [
    "corr = sales.corr()\n",
    "corr"
   ]
  },
  {
   "cell_type": "code",
   "execution_count": 34,
   "id": "d4959fd5",
   "metadata": {},
   "outputs": [
    {
     "data": {
      "image/png": "[encoded data removed]",
      "text/plain": [
       "<Figure size 576x576 with 1 Axes>"
      ]
     },
     "metadata": {
      "needs_background": "light"
     },
     "output_type": "display_data"
    }
   ],
   "source": [
    "fig = plt.figure(figsize=(8,8))\n",
    "plt.matshow(corr, cmap='RdBu', fignum=fig.number)\n",
    "plt.xticks(range(len(corr.columns)), corr.columns, rotation='vertical');\n",
    "plt.yticks(range(len(corr.columns)), corr.columns);"
   ]
  },
  {
   "cell_type": "code",
   "execution_count": 37,
   "id": "be50073c",
   "metadata": {},
   "outputs": [
    {
     "data": {
      "text/plain": [
       "<AxesSubplot:xlabel='Customer_Age', ylabel='Revenue'>"
      ]
     },
     "execution_count": 37,
     "metadata": {},
     "output_type": "execute_result"
    },
    {
     "data": {
      "image/png": "[encoded data removed]",
      "text/plain": [
       "<Figure size 432x432 with 1 Axes>"
      ]
     },
     "metadata": {
      "needs_background": "light"
     },
     "output_type": "display_data"
    }
   ],
   "source": [
    "sales.plot(kind='scatter', x='Customer_Age', y='Revenue', figsize=(6,6))"
   ]
  },
  {
   "cell_type": "code",
   "execution_count": 38,
   "id": "6f41795a",
   "metadata": {},
   "outputs": [
    {
     "data": {
      "text/plain": [
       "<AxesSubplot:xlabel='Revenue', ylabel='Profit'>"
      ]
     },
     "execution_count": 38,
     "metadata": {},
     "output_type": "execute_result"
    },
    {
     "data": {
      "image/png": "[encoded data removed]",
      "text/plain": [
       "<Figure size 432x432 with 1 Axes>"
      ]
     },
     "metadata": {
      "needs_background": "light"
     },
     "output_type": "display_data"
    }
   ],
   "source": [
    "sales.plot(kind='scatter', x='Revenue', y='Profit', figsize=(6,6))"
   ]
  },
  {
   "cell_type": "code",
   "execution_count": 39,
   "id": "f8724827",
   "metadata": {},
   "outputs": [
    {
     "data": {
      "text/plain": [
       "Text(0, 0.5, 'Profit')"
      ]
     },
     "execution_count": 39,
     "metadata": {},
     "output_type": "execute_result"
    },
    {
     "data": {
      "image/png": "[encoded data removed]",
      "text/plain": [
       "<Figure size 720x432 with 1 Axes>"
      ]
     },
     "metadata": {
      "needs_background": "light"
     },
     "output_type": "display_data"
    }
   ],
   "source": [
    "ax = sales[['Profit', 'Age_Group']].boxplot(by='Age_Group', figsize=(10,6))\n",
    "ax.set_ylabel('Profit')"
   ]
  },
  {
   "cell_type": "code",
   "execution_count": 41,
   "id": "f804ad0f",
   "metadata": {},
   "outputs": [
    {
     "data": {
      "text/plain": [
       "Year                 AxesSubplot(0.125,0.536818;0.227941x0.343182)\n",
       "Customer_Age      AxesSubplot(0.398529,0.536818;0.227941x0.343182)\n",
       "Order_Quantity    AxesSubplot(0.672059,0.536818;0.227941x0.343182)\n",
       "Unit_Cost               AxesSubplot(0.125,0.125;0.227941x0.343182)\n",
       "Unit_Price           AxesSubplot(0.398529,0.125;0.227941x0.343182)\n",
       "Profit               AxesSubplot(0.672059,0.125;0.227941x0.343182)\n",
       "dtype: object"
      ]
     },
     "execution_count": 41,
     "metadata": {},
     "output_type": "execute_result"
    },
    {
     "data": {
      "image/png": "[encoded data removed]",
      "text/plain": [
       "<Figure size 1008x576 with 6 Axes>"
      ]
     },
     "metadata": {
      "needs_background": "light"
     },
     "output_type": "display_data"
    }
   ],
   "source": [
    "boxplot_cols = ['Year', 'Customer_Age', 'Order_Quantity', 'Unit_Cost', 'Unit_Price', 'Profit']\n",
    "\n",
    "sales[boxplot_cols].plot(kind='box', subplots=True, layout=(2,3), figsize=(14,8))"
   ]
  },
  {
   "cell_type": "markdown",
   "id": "00353f9e",
   "metadata": {},
   "source": [
    "## Column wrangling\n",
    "\n",
    "Create new columns or modify existing ones."
   ]
  },
  {
   "cell_type": "code",
   "execution_count": 5,
   "id": "f884e46c",
   "metadata": {},
   "outputs": [
    {
     "data": {
      "text/plain": [
       "0    50.000000\n",
       "1    50.000000\n",
       "2    49.000000\n",
       "3    42.612245\n",
       "4     8.893617\n",
       "Name: Revenue_per_Age, dtype: float64"
      ]
     },
     "execution_count": 5,
     "metadata": {},
     "output_type": "execute_result"
    }
   ],
   "source": [
    "# Add and calculate a new 'Revenue_per_Age' column\n",
    "sales['Revenue_per_Age'] = sales['Revenue'] / sales['Customer_Age']\n",
    "\n",
    "sales['Revenue_per_Age'].head()"
   ]
  },
  {
   "cell_type": "code",
   "execution_count": 6,
   "id": "434ced70",
   "metadata": {},
   "outputs": [
    {
     "data": {
      "text/plain": [
       "<AxesSubplot:ylabel='Density'>"
      ]
     },
     "execution_count": 6,
     "metadata": {},
     "output_type": "execute_result"
    },
    {
     "data": {
      "image/png": "[encoded data removed]",
      "text/plain": [
       "<Figure size 1008x432 with 1 Axes>"
      ]
     },
     "metadata": {
      "needs_background": "light"
     },
     "output_type": "display_data"
    }
   ],
   "source": [
    "sales['Revenue_per_Age'].plot(kind='density', figsize=(14,6))"
   ]
  },
  {
   "cell_type": "code",
   "execution_count": 7,
   "id": "0eeb0051",
   "metadata": {},
   "outputs": [
    {
     "data": {
      "text/plain": [
       "<AxesSubplot:ylabel='Frequency'>"
      ]
     },
     "execution_count": 7,
     "metadata": {},
     "output_type": "execute_result"
    },
    {
     "data": {
      "image/png": "[encoded data removed]",
      "text/plain": [
       "<Figure size 1008x432 with 1 Axes>"
      ]
     },
     "metadata": {
      "needs_background": "light"
     },
     "output_type": "display_data"
    }
   ],
   "source": [
    "sales['Revenue_per_Age'].plot(kind='hist', figsize=(14,6))"
   ]
  },
  {
   "cell_type": "code",
   "execution_count": 8,
   "id": "79e4b0fc",
   "metadata": {},
   "outputs": [
    {
     "data": {
      "text/plain": [
       "0     360\n",
       "1     360\n",
       "2    1035\n",
       "3     900\n",
       "4     180\n",
       "Name: Calculated_Cost, dtype: int64"
      ]
     },
     "execution_count": 8,
     "metadata": {},
     "output_type": "execute_result"
    }
   ],
   "source": [
    "# Add and calculate a new Calculated_Cost column: Calculated_Cost = Order_Quantity*Unit_Cost\n",
    "sales['Calculated_Cost'] = sales['Order_Quantity'] * sales['Unit_Cost']\n",
    "\n",
    "sales['Calculated_Cost'].head()"
   ]
  },
  {
   "cell_type": "code",
   "execution_count": 9,
   "id": "0082ab2e",
   "metadata": {},
   "outputs": [
    {
     "data": {
      "text/plain": [
       "0"
      ]
     },
     "execution_count": 9,
     "metadata": {},
     "output_type": "execute_result"
    }
   ],
   "source": [
    "(sales['Calculated_Cost'] != sales['Cost']).sum()"
   ]
  },
  {
   "cell_type": "code",
   "execution_count": 10,
   "id": "da9efa94",
   "metadata": {},
   "outputs": [
    {
     "data": {
      "text/plain": [
       "<AxesSubplot:xlabel='Calculated_Cost', ylabel='Profit'>"
      ]
     },
     "execution_count": 10,
     "metadata": {},
     "output_type": "execute_result"
    },
    {
     "data": {
      "image/png": "[encoded data removed]",
      "text/plain": [
       "<Figure size 432x432 with 1 Axes>"
      ]
     },
     "metadata": {
      "needs_background": "light"
     },
     "output_type": "display_data"
    }
   ],
   "source": [
    "sales.plot(kind='scatter', x='Calculated_Cost', y='Profit', figsize=(6,6))"
   ]
  },
  {
   "cell_type": "code",
   "execution_count": 11,
   "id": "7d12efa6",
   "metadata": {},
   "outputs": [
    {
     "data": {
      "text/plain": [
       "0     950\n",
       "1     950\n",
       "2    2401\n",
       "3    2088\n",
       "4     418\n",
       "Name: Calculated_Revenue, dtype: int64"
      ]
     },
     "execution_count": 11,
     "metadata": {},
     "output_type": "execute_result"
    }
   ],
   "source": [
    "# Add and calculate a new Calculated_Revenue column: Calculated_Revenue = Cost + Profit\n",
    "sales['Calculated_Revenue'] = sales['Cost'] + sales['Profit']\n",
    "\n",
    "sales['Calculated_Revenue'].head()"
   ]
  },
  {
   "cell_type": "code",
   "execution_count": 12,
   "id": "4ccfdaaf",
   "metadata": {},
   "outputs": [
    {
     "data": {
      "text/plain": [
       "0"
      ]
     },
     "execution_count": 12,
     "metadata": {},
     "output_type": "execute_result"
    }
   ],
   "source": [
    "(sales['Calculated_Revenue'] != sales['Revenue']).sum()"
   ]
  },
  {
   "cell_type": "code",
   "execution_count": 13,
   "id": "8dfc1ab8",
   "metadata": {},
   "outputs": [
    {
     "data": {
      "text/html": [
       "<div>\n",
       "<style scoped>\n",
       "    .dataframe tbody tr th:only-of-type {\n",
       "        vertical-align: middle;\n",
       "    }\n",
       "\n",
       "    .dataframe tbody tr th {\n",
       "        vertical-align: top;\n",
       "    }\n",
       "\n",
       "    .dataframe thead th {\n",
       "        text-align: right;\n",
       "    }\n",
       "</style>\n",
       "<table border=\"1\" class=\"dataframe\">\n",
       "  <thead>\n",
       "    <tr style=\"text-align: right;\">\n",
       "      <th></th>\n",
       "      <th>Date</th>\n",
       "      <th>Day</th>\n",
       "      <th>Month</th>\n",
       "      <th>Year</th>\n",
       "      <th>Customer_Age</th>\n",
       "      <th>Age_Group</th>\n",
       "      <th>Customer_Gender</th>\n",
       "      <th>Country</th>\n",
       "      <th>State</th>\n",
       "      <th>Product_Category</th>\n",
       "      <th>...</th>\n",
       "      <th>Product</th>\n",
       "      <th>Order_Quantity</th>\n",
       "      <th>Unit_Cost</th>\n",
       "      <th>Unit_Price</th>\n",
       "      <th>Profit</th>\n",
       "      <th>Cost</th>\n",
       "      <th>Revenue</th>\n",
       "      <th>Revenue_per_Age</th>\n",
       "      <th>Calculated_Cost</th>\n",
       "      <th>Calculated_Revenue</th>\n",
       "    </tr>\n",
       "  </thead>\n",
       "  <tbody>\n",
       "    <tr>\n",
       "      <th>0</th>\n",
       "      <td>2013-11-26</td>\n",
       "      <td>26</td>\n",
       "      <td>November</td>\n",
       "      <td>2013</td>\n",
       "      <td>19</td>\n",
       "      <td>Youth (&lt;25)</td>\n",
       "      <td>M</td>\n",
       "      <td>Canada</td>\n",
       "      <td>British Columbia</td>\n",
       "      <td>Accessories</td>\n",
       "      <td>...</td>\n",
       "      <td>Hitch Rack - 4-Bike</td>\n",
       "      <td>8</td>\n",
       "      <td>45</td>\n",
       "      <td>120</td>\n",
       "      <td>590</td>\n",
       "      <td>360</td>\n",
       "      <td>950</td>\n",
       "      <td>50.000000</td>\n",
       "      <td>360</td>\n",
       "      <td>950</td>\n",
       "    </tr>\n",
       "    <tr>\n",
       "      <th>1</th>\n",
       "      <td>2015-11-26</td>\n",
       "      <td>26</td>\n",
       "      <td>November</td>\n",
       "      <td>2015</td>\n",
       "      <td>19</td>\n",
       "      <td>Youth (&lt;25)</td>\n",
       "      <td>M</td>\n",
       "      <td>Canada</td>\n",
       "      <td>British Columbia</td>\n",
       "      <td>Accessories</td>\n",
       "      <td>...</td>\n",
       "      <td>Hitch Rack - 4-Bike</td>\n",
       "      <td>8</td>\n",
       "      <td>45</td>\n",
       "      <td>120</td>\n",
       "      <td>590</td>\n",
       "      <td>360</td>\n",
       "      <td>950</td>\n",
       "      <td>50.000000</td>\n",
       "      <td>360</td>\n",
       "      <td>950</td>\n",
       "    </tr>\n",
       "    <tr>\n",
       "      <th>2</th>\n",
       "      <td>2014-03-23</td>\n",
       "      <td>23</td>\n",
       "      <td>March</td>\n",
       "      <td>2014</td>\n",
       "      <td>49</td>\n",
       "      <td>Adults (35-64)</td>\n",
       "      <td>M</td>\n",
       "      <td>Australia</td>\n",
       "      <td>New South Wales</td>\n",
       "      <td>Accessories</td>\n",
       "      <td>...</td>\n",
       "      <td>Hitch Rack - 4-Bike</td>\n",
       "      <td>23</td>\n",
       "      <td>45</td>\n",
       "      <td>120</td>\n",
       "      <td>1366</td>\n",
       "      <td>1035</td>\n",
       "      <td>2401</td>\n",
       "      <td>49.000000</td>\n",
       "      <td>1035</td>\n",
       "      <td>2401</td>\n",
       "    </tr>\n",
       "    <tr>\n",
       "      <th>3</th>\n",
       "      <td>2016-03-23</td>\n",
       "      <td>23</td>\n",
       "      <td>March</td>\n",
       "      <td>2016</td>\n",
       "      <td>49</td>\n",
       "      <td>Adults (35-64)</td>\n",
       "      <td>M</td>\n",
       "      <td>Australia</td>\n",
       "      <td>New South Wales</td>\n",
       "      <td>Accessories</td>\n",
       "      <td>...</td>\n",
       "      <td>Hitch Rack - 4-Bike</td>\n",
       "      <td>20</td>\n",
       "      <td>45</td>\n",
       "      <td>120</td>\n",
       "      <td>1188</td>\n",
       "      <td>900</td>\n",
       "      <td>2088</td>\n",
       "      <td>42.612245</td>\n",
       "      <td>900</td>\n",
       "      <td>2088</td>\n",
       "    </tr>\n",
       "    <tr>\n",
       "      <th>4</th>\n",
       "      <td>2014-05-15</td>\n",
       "      <td>15</td>\n",
       "      <td>May</td>\n",
       "      <td>2014</td>\n",
       "      <td>47</td>\n",
       "      <td>Adults (35-64)</td>\n",
       "      <td>F</td>\n",
       "      <td>Australia</td>\n",
       "      <td>New South Wales</td>\n",
       "      <td>Accessories</td>\n",
       "      <td>...</td>\n",
       "      <td>Hitch Rack - 4-Bike</td>\n",
       "      <td>4</td>\n",
       "      <td>45</td>\n",
       "      <td>120</td>\n",
       "      <td>238</td>\n",
       "      <td>180</td>\n",
       "      <td>418</td>\n",
       "      <td>8.893617</td>\n",
       "      <td>180</td>\n",
       "      <td>418</td>\n",
       "    </tr>\n",
       "  </tbody>\n",
       "</table>\n",
       "<p>5 rows × 21 columns</p>\n",
       "</div>"
      ],
      "text/plain": [
       "        Date  Day     Month  Year  Customer_Age       Age_Group  \\\n",
       "0 2013-11-26   26  November  2013            19     Youth (<25)   \n",
       "1 2015-11-26   26  November  2015            19     Youth (<25)   \n",
       "2 2014-03-23   23     March  2014            49  Adults (35-64)   \n",
       "3 2016-03-23   23     March  2016            49  Adults (35-64)   \n",
       "4 2014-05-15   15       May  2014            47  Adults (35-64)   \n",
       "\n",
       "  Customer_Gender    Country             State Product_Category  ...  \\\n",
       "0               M     Canada  British Columbia      Accessories  ...   \n",
       "1               M     Canada  British Columbia      Accessories  ...   \n",
       "2               M  Australia   New South Wales      Accessories  ...   \n",
       "3               M  Australia   New South Wales      Accessories  ...   \n",
       "4               F  Australia   New South Wales      Accessories  ...   \n",
       "\n",
       "               Product Order_Quantity  Unit_Cost  Unit_Price  Profit  Cost  \\\n",
       "0  Hitch Rack - 4-Bike              8         45         120     590   360   \n",
       "1  Hitch Rack - 4-Bike              8         45         120     590   360   \n",
       "2  Hitch Rack - 4-Bike             23         45         120    1366  1035   \n",
       "3  Hitch Rack - 4-Bike             20         45         120    1188   900   \n",
       "4  Hitch Rack - 4-Bike              4         45         120     238   180   \n",
       "\n",
       "   Revenue  Revenue_per_Age  Calculated_Cost  Calculated_Revenue  \n",
       "0      950        50.000000              360                 950  \n",
       "1      950        50.000000              360                 950  \n",
       "2     2401        49.000000             1035                2401  \n",
       "3     2088        42.612245              900                2088  \n",
       "4      418         8.893617              180                 418  \n",
       "\n",
       "[5 rows x 21 columns]"
      ]
     },
     "execution_count": 13,
     "metadata": {},
     "output_type": "execute_result"
    }
   ],
   "source": [
    "sales.head()"
   ]
  },
  {
   "cell_type": "code",
   "execution_count": 14,
   "id": "52928b81",
   "metadata": {},
   "outputs": [
    {
     "data": {
      "text/plain": [
       "<AxesSubplot:ylabel='Frequency'>"
      ]
     },
     "execution_count": 14,
     "metadata": {},
     "output_type": "execute_result"
    },
    {
     "data": {
      "image/png": "[encoded data removed]",
      "text/plain": [
       "<Figure size 1008x432 with 1 Axes>"
      ]
     },
     "metadata": {
      "needs_background": "light"
     },
     "output_type": "display_data"
    }
   ],
   "source": [
    "sales['Revenue'].plot(kind='hist', bins=100, figsize=(14,6))"
   ]
  },
  {
   "cell_type": "code",
   "execution_count": 15,
   "id": "790af73a",
   "metadata": {},
   "outputs": [
    {
     "data": {
      "text/plain": [
       "0    120\n",
       "1    120\n",
       "2    120\n",
       "3    120\n",
       "4    120\n",
       "Name: Unit_Price, dtype: int64"
      ]
     },
     "execution_count": 15,
     "metadata": {},
     "output_type": "execute_result"
    }
   ],
   "source": [
    "# Modify all Unit_Price values by adding 3% tax to them\n",
    "sales['Unit_Price'].head()"
   ]
  },
  {
   "cell_type": "code",
   "execution_count": 17,
   "id": "834bc633",
   "metadata": {},
   "outputs": [
    {
     "data": {
      "text/plain": [
       "0    127.308\n",
       "1    127.308\n",
       "2    127.308\n",
       "3    127.308\n",
       "4    127.308\n",
       "Name: Unit_Price, dtype: float64"
      ]
     },
     "execution_count": 17,
     "metadata": {},
     "output_type": "execute_result"
    }
   ],
   "source": [
    "#sales['Unit_Price'] = sales['Unit_Price'] * 1.03\n",
    "\n",
    "sales['Unit_Price'] *= 1.03\n",
    "sales['Unit_Price'].head()"
   ]
  },
  {
   "cell_type": "markdown",
   "id": "87c7fc6c",
   "metadata": {},
   "source": [
    "## Selection & Indexing:"
   ]
  },
  {
   "cell_type": "code",
   "execution_count": 27,
   "id": "6d8ecf19",
   "metadata": {},
   "outputs": [
    {
     "data": {
      "text/html": [
       "<div>\n",
       "<style scoped>\n",
       "    .dataframe tbody tr th:only-of-type {\n",
       "        vertical-align: middle;\n",
       "    }\n",
       "\n",
       "    .dataframe tbody tr th {\n",
       "        vertical-align: top;\n",
       "    }\n",
       "\n",
       "    .dataframe thead th {\n",
       "        text-align: right;\n",
       "    }\n",
       "</style>\n",
       "<table border=\"1\" class=\"dataframe\">\n",
       "  <thead>\n",
       "    <tr style=\"text-align: right;\">\n",
       "      <th></th>\n",
       "      <th>Date</th>\n",
       "      <th>Day</th>\n",
       "      <th>Month</th>\n",
       "      <th>Year</th>\n",
       "      <th>Customer_Age</th>\n",
       "      <th>Age_Group</th>\n",
       "      <th>Customer_Gender</th>\n",
       "      <th>Country</th>\n",
       "      <th>State</th>\n",
       "      <th>Product_Category</th>\n",
       "      <th>...</th>\n",
       "      <th>Product</th>\n",
       "      <th>Order_Quantity</th>\n",
       "      <th>Unit_Cost</th>\n",
       "      <th>Unit_Price</th>\n",
       "      <th>Profit</th>\n",
       "      <th>Cost</th>\n",
       "      <th>Revenue</th>\n",
       "      <th>Revenue_per_Age</th>\n",
       "      <th>Calculated_Cost</th>\n",
       "      <th>Calculated_Revenue</th>\n",
       "    </tr>\n",
       "  </thead>\n",
       "  <tbody>\n",
       "    <tr>\n",
       "      <th>156</th>\n",
       "      <td>2013-11-04</td>\n",
       "      <td>4</td>\n",
       "      <td>November</td>\n",
       "      <td>2013</td>\n",
       "      <td>40</td>\n",
       "      <td>Adults (35-64)</td>\n",
       "      <td>M</td>\n",
       "      <td>United States</td>\n",
       "      <td>Kentucky</td>\n",
       "      <td>Accessories</td>\n",
       "      <td>...</td>\n",
       "      <td>Hitch Rack - 4-Bike</td>\n",
       "      <td>1</td>\n",
       "      <td>45</td>\n",
       "      <td>127.3080</td>\n",
       "      <td>63</td>\n",
       "      <td>45</td>\n",
       "      <td>108</td>\n",
       "      <td>2.700</td>\n",
       "      <td>45</td>\n",
       "      <td>108</td>\n",
       "    </tr>\n",
       "    <tr>\n",
       "      <th>157</th>\n",
       "      <td>2015-11-04</td>\n",
       "      <td>4</td>\n",
       "      <td>November</td>\n",
       "      <td>2015</td>\n",
       "      <td>40</td>\n",
       "      <td>Adults (35-64)</td>\n",
       "      <td>M</td>\n",
       "      <td>United States</td>\n",
       "      <td>Kentucky</td>\n",
       "      <td>Accessories</td>\n",
       "      <td>...</td>\n",
       "      <td>Hitch Rack - 4-Bike</td>\n",
       "      <td>1</td>\n",
       "      <td>45</td>\n",
       "      <td>127.3080</td>\n",
       "      <td>63</td>\n",
       "      <td>45</td>\n",
       "      <td>108</td>\n",
       "      <td>2.700</td>\n",
       "      <td>45</td>\n",
       "      <td>108</td>\n",
       "    </tr>\n",
       "    <tr>\n",
       "      <th>23826</th>\n",
       "      <td>2014-04-16</td>\n",
       "      <td>16</td>\n",
       "      <td>April</td>\n",
       "      <td>2014</td>\n",
       "      <td>40</td>\n",
       "      <td>Adults (35-64)</td>\n",
       "      <td>M</td>\n",
       "      <td>United States</td>\n",
       "      <td>Kentucky</td>\n",
       "      <td>Accessories</td>\n",
       "      <td>...</td>\n",
       "      <td>Fender Set - Mountain</td>\n",
       "      <td>12</td>\n",
       "      <td>8</td>\n",
       "      <td>23.3398</td>\n",
       "      <td>142</td>\n",
       "      <td>96</td>\n",
       "      <td>238</td>\n",
       "      <td>5.950</td>\n",
       "      <td>96</td>\n",
       "      <td>238</td>\n",
       "    </tr>\n",
       "    <tr>\n",
       "      <th>23827</th>\n",
       "      <td>2016-04-16</td>\n",
       "      <td>16</td>\n",
       "      <td>April</td>\n",
       "      <td>2016</td>\n",
       "      <td>40</td>\n",
       "      <td>Adults (35-64)</td>\n",
       "      <td>M</td>\n",
       "      <td>United States</td>\n",
       "      <td>Kentucky</td>\n",
       "      <td>Accessories</td>\n",
       "      <td>...</td>\n",
       "      <td>Fender Set - Mountain</td>\n",
       "      <td>14</td>\n",
       "      <td>8</td>\n",
       "      <td>23.3398</td>\n",
       "      <td>165</td>\n",
       "      <td>112</td>\n",
       "      <td>277</td>\n",
       "      <td>6.925</td>\n",
       "      <td>112</td>\n",
       "      <td>277</td>\n",
       "    </tr>\n",
       "    <tr>\n",
       "      <th>31446</th>\n",
       "      <td>2014-04-16</td>\n",
       "      <td>16</td>\n",
       "      <td>April</td>\n",
       "      <td>2014</td>\n",
       "      <td>40</td>\n",
       "      <td>Adults (35-64)</td>\n",
       "      <td>M</td>\n",
       "      <td>United States</td>\n",
       "      <td>Kentucky</td>\n",
       "      <td>Accessories</td>\n",
       "      <td>...</td>\n",
       "      <td>Sport-100 Helmet, Blue</td>\n",
       "      <td>29</td>\n",
       "      <td>13</td>\n",
       "      <td>37.1315</td>\n",
       "      <td>537</td>\n",
       "      <td>377</td>\n",
       "      <td>914</td>\n",
       "      <td>22.850</td>\n",
       "      <td>377</td>\n",
       "      <td>914</td>\n",
       "    </tr>\n",
       "    <tr>\n",
       "      <th>31447</th>\n",
       "      <td>2016-04-16</td>\n",
       "      <td>16</td>\n",
       "      <td>April</td>\n",
       "      <td>2016</td>\n",
       "      <td>40</td>\n",
       "      <td>Adults (35-64)</td>\n",
       "      <td>M</td>\n",
       "      <td>United States</td>\n",
       "      <td>Kentucky</td>\n",
       "      <td>Accessories</td>\n",
       "      <td>...</td>\n",
       "      <td>Sport-100 Helmet, Blue</td>\n",
       "      <td>31</td>\n",
       "      <td>13</td>\n",
       "      <td>37.1315</td>\n",
       "      <td>574</td>\n",
       "      <td>403</td>\n",
       "      <td>977</td>\n",
       "      <td>24.425</td>\n",
       "      <td>403</td>\n",
       "      <td>977</td>\n",
       "    </tr>\n",
       "    <tr>\n",
       "      <th>79670</th>\n",
       "      <td>2014-04-16</td>\n",
       "      <td>16</td>\n",
       "      <td>April</td>\n",
       "      <td>2014</td>\n",
       "      <td>40</td>\n",
       "      <td>Adults (35-64)</td>\n",
       "      <td>M</td>\n",
       "      <td>United States</td>\n",
       "      <td>Kentucky</td>\n",
       "      <td>Accessories</td>\n",
       "      <td>...</td>\n",
       "      <td>ML Mountain Tire</td>\n",
       "      <td>2</td>\n",
       "      <td>11</td>\n",
       "      <td>31.8270</td>\n",
       "      <td>32</td>\n",
       "      <td>22</td>\n",
       "      <td>54</td>\n",
       "      <td>1.350</td>\n",
       "      <td>22</td>\n",
       "      <td>54</td>\n",
       "    </tr>\n",
       "    <tr>\n",
       "      <th>79671</th>\n",
       "      <td>2014-04-16</td>\n",
       "      <td>16</td>\n",
       "      <td>April</td>\n",
       "      <td>2014</td>\n",
       "      <td>40</td>\n",
       "      <td>Adults (35-64)</td>\n",
       "      <td>M</td>\n",
       "      <td>United States</td>\n",
       "      <td>Kentucky</td>\n",
       "      <td>Accessories</td>\n",
       "      <td>...</td>\n",
       "      <td>ML Mountain Tire</td>\n",
       "      <td>21</td>\n",
       "      <td>11</td>\n",
       "      <td>31.8270</td>\n",
       "      <td>336</td>\n",
       "      <td>231</td>\n",
       "      <td>567</td>\n",
       "      <td>14.175</td>\n",
       "      <td>231</td>\n",
       "      <td>567</td>\n",
       "    </tr>\n",
       "    <tr>\n",
       "      <th>79672</th>\n",
       "      <td>2016-04-16</td>\n",
       "      <td>16</td>\n",
       "      <td>April</td>\n",
       "      <td>2016</td>\n",
       "      <td>40</td>\n",
       "      <td>Adults (35-64)</td>\n",
       "      <td>M</td>\n",
       "      <td>United States</td>\n",
       "      <td>Kentucky</td>\n",
       "      <td>Accessories</td>\n",
       "      <td>...</td>\n",
       "      <td>ML Mountain Tire</td>\n",
       "      <td>1</td>\n",
       "      <td>11</td>\n",
       "      <td>31.8270</td>\n",
       "      <td>16</td>\n",
       "      <td>11</td>\n",
       "      <td>27</td>\n",
       "      <td>0.675</td>\n",
       "      <td>11</td>\n",
       "      <td>27</td>\n",
       "    </tr>\n",
       "    <tr>\n",
       "      <th>79673</th>\n",
       "      <td>2016-04-16</td>\n",
       "      <td>16</td>\n",
       "      <td>April</td>\n",
       "      <td>2016</td>\n",
       "      <td>40</td>\n",
       "      <td>Adults (35-64)</td>\n",
       "      <td>M</td>\n",
       "      <td>United States</td>\n",
       "      <td>Kentucky</td>\n",
       "      <td>Accessories</td>\n",
       "      <td>...</td>\n",
       "      <td>ML Mountain Tire</td>\n",
       "      <td>18</td>\n",
       "      <td>11</td>\n",
       "      <td>31.8270</td>\n",
       "      <td>288</td>\n",
       "      <td>198</td>\n",
       "      <td>486</td>\n",
       "      <td>12.150</td>\n",
       "      <td>198</td>\n",
       "      <td>486</td>\n",
       "    </tr>\n",
       "  </tbody>\n",
       "</table>\n",
       "<p>10 rows × 21 columns</p>\n",
       "</div>"
      ],
      "text/plain": [
       "            Date  Day     Month  Year  Customer_Age       Age_Group  \\\n",
       "156   2013-11-04    4  November  2013            40  Adults (35-64)   \n",
       "157   2015-11-04    4  November  2015            40  Adults (35-64)   \n",
       "23826 2014-04-16   16     April  2014            40  Adults (35-64)   \n",
       "23827 2016-04-16   16     April  2016            40  Adults (35-64)   \n",
       "31446 2014-04-16   16     April  2014            40  Adults (35-64)   \n",
       "31447 2016-04-16   16     April  2016            40  Adults (35-64)   \n",
       "79670 2014-04-16   16     April  2014            40  Adults (35-64)   \n",
       "79671 2014-04-16   16     April  2014            40  Adults (35-64)   \n",
       "79672 2016-04-16   16     April  2016            40  Adults (35-64)   \n",
       "79673 2016-04-16   16     April  2016            40  Adults (35-64)   \n",
       "\n",
       "      Customer_Gender        Country     State Product_Category  ...  \\\n",
       "156                 M  United States  Kentucky      Accessories  ...   \n",
       "157                 M  United States  Kentucky      Accessories  ...   \n",
       "23826               M  United States  Kentucky      Accessories  ...   \n",
       "23827               M  United States  Kentucky      Accessories  ...   \n",
       "31446               M  United States  Kentucky      Accessories  ...   \n",
       "31447               M  United States  Kentucky      Accessories  ...   \n",
       "79670               M  United States  Kentucky      Accessories  ...   \n",
       "79671               M  United States  Kentucky      Accessories  ...   \n",
       "79672               M  United States  Kentucky      Accessories  ...   \n",
       "79673               M  United States  Kentucky      Accessories  ...   \n",
       "\n",
       "                      Product Order_Quantity  Unit_Cost  Unit_Price  Profit  \\\n",
       "156       Hitch Rack - 4-Bike              1         45    127.3080      63   \n",
       "157       Hitch Rack - 4-Bike              1         45    127.3080      63   \n",
       "23826   Fender Set - Mountain             12          8     23.3398     142   \n",
       "23827   Fender Set - Mountain             14          8     23.3398     165   \n",
       "31446  Sport-100 Helmet, Blue             29         13     37.1315     537   \n",
       "31447  Sport-100 Helmet, Blue             31         13     37.1315     574   \n",
       "79670        ML Mountain Tire              2         11     31.8270      32   \n",
       "79671        ML Mountain Tire             21         11     31.8270     336   \n",
       "79672        ML Mountain Tire              1         11     31.8270      16   \n",
       "79673        ML Mountain Tire             18         11     31.8270     288   \n",
       "\n",
       "       Cost  Revenue  Revenue_per_Age  Calculated_Cost  Calculated_Revenue  \n",
       "156      45      108            2.700               45                 108  \n",
       "157      45      108            2.700               45                 108  \n",
       "23826    96      238            5.950               96                 238  \n",
       "23827   112      277            6.925              112                 277  \n",
       "31446   377      914           22.850              377                 914  \n",
       "31447   403      977           24.425              403                 977  \n",
       "79670    22       54            1.350               22                  54  \n",
       "79671   231      567           14.175              231                 567  \n",
       "79672    11       27            0.675               11                  27  \n",
       "79673   198      486           12.150              198                 486  \n",
       "\n",
       "[10 rows x 21 columns]"
      ]
     },
     "execution_count": 27,
     "metadata": {},
     "output_type": "execute_result"
    }
   ],
   "source": [
    "# Get all the sales made in the state of Kentucky\n",
    "sales.loc[sales['State'] ==  'Kentucky']"
   ]
  },
  {
   "cell_type": "code",
   "execution_count": 29,
   "id": "712febd9",
   "metadata": {},
   "outputs": [
    {
     "data": {
      "text/plain": [
       "762.8287654055604"
      ]
     },
     "execution_count": 29,
     "metadata": {},
     "output_type": "execute_result"
    }
   ],
   "source": [
    "sales.loc[sales['Age_Group'] == 'Adults (35-64)', 'Revenue'].mean()"
   ]
  },
  {
   "cell_type": "code",
   "execution_count": 33,
   "id": "d81564bf",
   "metadata": {},
   "outputs": [
    {
     "data": {
      "text/plain": [
       "73652"
      ]
     },
     "execution_count": 33,
     "metadata": {},
     "output_type": "execute_result"
    }
   ],
   "source": [
    "# The number of records belong to Age Group Youth (<25) or Adults (35-64)\n",
    "sales.loc[(sales['Age_Group'] == 'Youth (<25)') | (sales['Age_Group'] == 'Adults (35-64)')].shape[0]"
   ]
  },
  {
   "cell_type": "code",
   "execution_count": 34,
   "id": "23fd5656",
   "metadata": {},
   "outputs": [
    {
     "data": {
      "text/plain": [
       "726.7260473588342"
      ]
     },
     "execution_count": 34,
     "metadata": {},
     "output_type": "execute_result"
    }
   ],
   "source": [
    "# Get the mean revenue of the sales group Adults (35-64) in United States\n",
    "sales.loc[(sales['Age_Group'] == 'Adults (35-64)') & (sales['Country'] == 'United States'), 'Revenue'].mean()"
   ]
  },
  {
   "cell_type": "code",
   "execution_count": 35,
   "id": "cc13a0df",
   "metadata": {},
   "outputs": [
    {
     "data": {
      "text/plain": [
       "50     787\n",
       "51     787\n",
       "52    2957\n",
       "53    2851\n",
       "60     626\n",
       "Name: Revenue, dtype: int64"
      ]
     },
     "execution_count": 35,
     "metadata": {},
     "output_type": "execute_result"
    }
   ],
   "source": [
    "sales.loc[sales['Country'] == 'France', 'Revenue'].head()"
   ]
  },
  {
   "cell_type": "code",
   "execution_count": 38,
   "id": "a7f25eb0",
   "metadata": {},
   "outputs": [
    {
     "data": {
      "text/plain": [
       "50     952.27\n",
       "51     952.27\n",
       "52    3577.97\n",
       "53    3449.71\n",
       "60     757.46\n",
       "Name: Revenue, dtype: float64"
      ]
     },
     "execution_count": 38,
     "metadata": {},
     "output_type": "execute_result"
    }
   ],
   "source": [
    "# Increase the revenue by 10% to every sale made in France\n",
    "sales.loc[sales['Country'] == 'France', 'Revenue'] *= 1.1\n",
    "sales.loc[sales['Country'] == 'France', 'Revenue'].head()"
   ]
  },
  {
   "cell_type": "markdown",
   "id": "67d519e5",
   "metadata": {},
   "source": [
    "# The Sakila Database\n",
    "\n",
    "One of the best example databases out there is the <a href=\"https://dev.mysql.com/doc/sakila/en/\">Sakila Database</a>, which was originally created by MySQL and has been open sourced under the terms of the BSD License.\n",
    "\n",
    "The Sakila database is a nicely normalised schema modelling a DVD rental store, featuring things like films, actors, film-actor relationships, and a central inventory table that connects films, stores, and rentals.\n",
    "\n",
    "<img width=\"1200px\" src=\"https://user-images.githubusercontent.com/7065401/58504872-fa243b00-8161-11e9-85ed-4b7d8d7ce9f7.png\" />"
   ]
  },
  {
   "cell_type": "code",
   "execution_count": 41,
   "id": "abff1888",
   "metadata": {},
   "outputs": [],
   "source": [
    "import sqlite3"
   ]
  },
  {
   "cell_type": "markdown",
   "id": "3d3da50d",
   "metadata": {},
   "source": [
    "## Loading data:"
   ]
  },
  {
   "cell_type": "code",
   "execution_count": 42,
   "id": "461c254a",
   "metadata": {},
   "outputs": [],
   "source": [
    "conn = sqlite3.connect('data/sakila.db')\n",
    "\n",
    "df = pd.read_sql('''\n",
    "    SELECT\n",
    "        rental.rental_id, rental.rental_date, rental.return_date,\n",
    "        customer.last_name AS customer_lastname,\n",
    "        store.store_id,\n",
    "        city.city AS rental_store_city,\n",
    "        film.title AS film_title, film.rental_duration AS film_rental_duration,\n",
    "        film.rental_rate AS film_rental_rate, film.replacement_cost AS film_replacement_cost,\n",
    "        film.rating AS film_rating\n",
    "    FROM rental\n",
    "    INNER JOIN customer ON rental.customer_id == customer.customer_id\n",
    "    INNER JOIN inventory ON rental.inventory_id == inventory.inventory_id\n",
    "    INNER JOIN store ON inventory.store_id == store.store_id\n",
    "    INNER JOIN address ON store.address_id == address.address_id\n",
    "    INNER JOIN city ON address.city_id == city.city_id\n",
    "    INNER JOIN film ON inventory.film_id == film.film_id\n",
    "    ;\n",
    "''', conn, index_col='rental_id', parse_dates=['rental_date', 'return_date'])"
   ]
  },
  {
   "cell_type": "code",
   "execution_count": 43,
   "id": "3be1d739",
   "metadata": {},
   "outputs": [
    {
     "data": {
      "text/html": [
       "<div>\n",
       "<style scoped>\n",
       "    .dataframe tbody tr th:only-of-type {\n",
       "        vertical-align: middle;\n",
       "    }\n",
       "\n",
       "    .dataframe tbody tr th {\n",
       "        vertical-align: top;\n",
       "    }\n",
       "\n",
       "    .dataframe thead th {\n",
       "        text-align: right;\n",
       "    }\n",
       "</style>\n",
       "<table border=\"1\" class=\"dataframe\">\n",
       "  <thead>\n",
       "    <tr style=\"text-align: right;\">\n",
       "      <th></th>\n",
       "      <th>rental_date</th>\n",
       "      <th>return_date</th>\n",
       "      <th>customer_lastname</th>\n",
       "      <th>store_id</th>\n",
       "      <th>rental_store_city</th>\n",
       "      <th>film_title</th>\n",
       "      <th>film_rental_duration</th>\n",
       "      <th>film_rental_rate</th>\n",
       "      <th>film_replacement_cost</th>\n",
       "      <th>film_rating</th>\n",
       "    </tr>\n",
       "    <tr>\n",
       "      <th>rental_id</th>\n",
       "      <th></th>\n",
       "      <th></th>\n",
       "      <th></th>\n",
       "      <th></th>\n",
       "      <th></th>\n",
       "      <th></th>\n",
       "      <th></th>\n",
       "      <th></th>\n",
       "      <th></th>\n",
       "      <th></th>\n",
       "    </tr>\n",
       "  </thead>\n",
       "  <tbody>\n",
       "    <tr>\n",
       "      <th>1</th>\n",
       "      <td>2005-05-24 22:53:30</td>\n",
       "      <td>2005-05-26 22:04:30</td>\n",
       "      <td>HUNTER</td>\n",
       "      <td>1</td>\n",
       "      <td>Lethbridge</td>\n",
       "      <td>BLANKET BEVERLY</td>\n",
       "      <td>7</td>\n",
       "      <td>2.99</td>\n",
       "      <td>21.99</td>\n",
       "      <td>G</td>\n",
       "    </tr>\n",
       "    <tr>\n",
       "      <th>2</th>\n",
       "      <td>2005-05-24 22:54:33</td>\n",
       "      <td>2005-05-28 19:40:33</td>\n",
       "      <td>COLLAZO</td>\n",
       "      <td>2</td>\n",
       "      <td>Woodridge</td>\n",
       "      <td>FREAKY POCUS</td>\n",
       "      <td>7</td>\n",
       "      <td>2.99</td>\n",
       "      <td>16.99</td>\n",
       "      <td>R</td>\n",
       "    </tr>\n",
       "    <tr>\n",
       "      <th>3</th>\n",
       "      <td>2005-05-24 23:03:39</td>\n",
       "      <td>2005-06-01 22:12:39</td>\n",
       "      <td>MURRELL</td>\n",
       "      <td>2</td>\n",
       "      <td>Woodridge</td>\n",
       "      <td>GRADUATE LORD</td>\n",
       "      <td>7</td>\n",
       "      <td>2.99</td>\n",
       "      <td>14.99</td>\n",
       "      <td>G</td>\n",
       "    </tr>\n",
       "    <tr>\n",
       "      <th>4</th>\n",
       "      <td>2005-05-24 23:04:41</td>\n",
       "      <td>2005-06-03 01:43:41</td>\n",
       "      <td>PURDY</td>\n",
       "      <td>1</td>\n",
       "      <td>Lethbridge</td>\n",
       "      <td>LOVE SUICIDES</td>\n",
       "      <td>6</td>\n",
       "      <td>0.99</td>\n",
       "      <td>21.99</td>\n",
       "      <td>R</td>\n",
       "    </tr>\n",
       "    <tr>\n",
       "      <th>5</th>\n",
       "      <td>2005-05-24 23:05:21</td>\n",
       "      <td>2005-06-02 04:33:21</td>\n",
       "      <td>HANSEN</td>\n",
       "      <td>2</td>\n",
       "      <td>Woodridge</td>\n",
       "      <td>IDOLS SNATCHERS</td>\n",
       "      <td>5</td>\n",
       "      <td>2.99</td>\n",
       "      <td>29.99</td>\n",
       "      <td>NC-17</td>\n",
       "    </tr>\n",
       "  </tbody>\n",
       "</table>\n",
       "</div>"
      ],
      "text/plain": [
       "                  rental_date         return_date customer_lastname  store_id  \\\n",
       "rental_id                                                                       \n",
       "1         2005-05-24 22:53:30 2005-05-26 22:04:30            HUNTER         1   \n",
       "2         2005-05-24 22:54:33 2005-05-28 19:40:33           COLLAZO         2   \n",
       "3         2005-05-24 23:03:39 2005-06-01 22:12:39           MURRELL         2   \n",
       "4         2005-05-24 23:04:41 2005-06-03 01:43:41             PURDY         1   \n",
       "5         2005-05-24 23:05:21 2005-06-02 04:33:21            HANSEN         2   \n",
       "\n",
       "          rental_store_city       film_title  film_rental_duration  \\\n",
       "rental_id                                                            \n",
       "1                Lethbridge  BLANKET BEVERLY                     7   \n",
       "2                 Woodridge     FREAKY POCUS                     7   \n",
       "3                 Woodridge    GRADUATE LORD                     7   \n",
       "4                Lethbridge    LOVE SUICIDES                     6   \n",
       "5                 Woodridge  IDOLS SNATCHERS                     5   \n",
       "\n",
       "           film_rental_rate  film_replacement_cost film_rating  \n",
       "rental_id                                                       \n",
       "1                      2.99                  21.99           G  \n",
       "2                      2.99                  16.99           R  \n",
       "3                      2.99                  14.99           G  \n",
       "4                      0.99                  21.99           R  \n",
       "5                      2.99                  29.99       NC-17  "
      ]
     },
     "execution_count": 43,
     "metadata": {},
     "output_type": "execute_result"
    }
   ],
   "source": [
    "df.head()"
   ]
  },
  {
   "cell_type": "code",
   "execution_count": 44,
   "id": "56284390",
   "metadata": {},
   "outputs": [
    {
     "data": {
      "text/plain": [
       "(16044, 10)"
      ]
     },
     "execution_count": 44,
     "metadata": {},
     "output_type": "execute_result"
    }
   ],
   "source": [
    "df.shape"
   ]
  },
  {
   "cell_type": "code",
   "execution_count": 45,
   "id": "5a1475ee",
   "metadata": {},
   "outputs": [
    {
     "name": "stdout",
     "output_type": "stream",
     "text": [
      "<class 'pandas.core.frame.DataFrame'>\n",
      "Int64Index: 16044 entries, 1 to 16049\n",
      "Data columns (total 10 columns):\n",
      " #   Column                 Non-Null Count  Dtype         \n",
      "---  ------                 --------------  -----         \n",
      " 0   rental_date            16044 non-null  datetime64[ns]\n",
      " 1   return_date            15861 non-null  datetime64[ns]\n",
      " 2   customer_lastname      16044 non-null  object        \n",
      " 3   store_id               16044 non-null  int64         \n",
      " 4   rental_store_city      16044 non-null  object        \n",
      " 5   film_title             16044 non-null  object        \n",
      " 6   film_rental_duration   16044 non-null  int64         \n",
      " 7   film_rental_rate       16044 non-null  float64       \n",
      " 8   film_replacement_cost  16044 non-null  float64       \n",
      " 9   film_rating            16044 non-null  object        \n",
      "dtypes: datetime64[ns](2), float64(2), int64(2), object(4)\n",
      "memory usage: 1.3+ MB\n"
     ]
    }
   ],
   "source": [
    "df.info()"
   ]
  },
  {
   "cell_type": "code",
   "execution_count": 46,
   "id": "9713f0b9",
   "metadata": {},
   "outputs": [
    {
     "data": {
      "text/html": [
       "<div>\n",
       "<style scoped>\n",
       "    .dataframe tbody tr th:only-of-type {\n",
       "        vertical-align: middle;\n",
       "    }\n",
       "\n",
       "    .dataframe tbody tr th {\n",
       "        vertical-align: top;\n",
       "    }\n",
       "\n",
       "    .dataframe thead th {\n",
       "        text-align: right;\n",
       "    }\n",
       "</style>\n",
       "<table border=\"1\" class=\"dataframe\">\n",
       "  <thead>\n",
       "    <tr style=\"text-align: right;\">\n",
       "      <th></th>\n",
       "      <th>store_id</th>\n",
       "      <th>film_rental_duration</th>\n",
       "      <th>film_rental_rate</th>\n",
       "      <th>film_replacement_cost</th>\n",
       "    </tr>\n",
       "  </thead>\n",
       "  <tbody>\n",
       "    <tr>\n",
       "      <th>count</th>\n",
       "      <td>16044.000000</td>\n",
       "      <td>16044.00000</td>\n",
       "      <td>16044.000000</td>\n",
       "      <td>16044.000000</td>\n",
       "    </tr>\n",
       "    <tr>\n",
       "      <th>mean</th>\n",
       "      <td>1.506171</td>\n",
       "      <td>4.93549</td>\n",
       "      <td>2.942630</td>\n",
       "      <td>20.215443</td>\n",
       "    </tr>\n",
       "    <tr>\n",
       "      <th>std</th>\n",
       "      <td>0.499978</td>\n",
       "      <td>1.40169</td>\n",
       "      <td>1.649678</td>\n",
       "      <td>6.081771</td>\n",
       "    </tr>\n",
       "    <tr>\n",
       "      <th>min</th>\n",
       "      <td>1.000000</td>\n",
       "      <td>3.00000</td>\n",
       "      <td>0.990000</td>\n",
       "      <td>9.990000</td>\n",
       "    </tr>\n",
       "    <tr>\n",
       "      <th>25%</th>\n",
       "      <td>1.000000</td>\n",
       "      <td>4.00000</td>\n",
       "      <td>0.990000</td>\n",
       "      <td>14.990000</td>\n",
       "    </tr>\n",
       "    <tr>\n",
       "      <th>50%</th>\n",
       "      <td>2.000000</td>\n",
       "      <td>5.00000</td>\n",
       "      <td>2.990000</td>\n",
       "      <td>20.990000</td>\n",
       "    </tr>\n",
       "    <tr>\n",
       "      <th>75%</th>\n",
       "      <td>2.000000</td>\n",
       "      <td>6.00000</td>\n",
       "      <td>4.990000</td>\n",
       "      <td>25.990000</td>\n",
       "    </tr>\n",
       "    <tr>\n",
       "      <th>max</th>\n",
       "      <td>2.000000</td>\n",
       "      <td>7.00000</td>\n",
       "      <td>4.990000</td>\n",
       "      <td>29.990000</td>\n",
       "    </tr>\n",
       "  </tbody>\n",
       "</table>\n",
       "</div>"
      ],
      "text/plain": [
       "           store_id  film_rental_duration  film_rental_rate  \\\n",
       "count  16044.000000           16044.00000      16044.000000   \n",
       "mean       1.506171               4.93549          2.942630   \n",
       "std        0.499978               1.40169          1.649678   \n",
       "min        1.000000               3.00000          0.990000   \n",
       "25%        1.000000               4.00000          0.990000   \n",
       "50%        2.000000               5.00000          2.990000   \n",
       "75%        2.000000               6.00000          4.990000   \n",
       "max        2.000000               7.00000          4.990000   \n",
       "\n",
       "       film_replacement_cost  \n",
       "count           16044.000000  \n",
       "mean               20.215443  \n",
       "std                 6.081771  \n",
       "min                 9.990000  \n",
       "25%                14.990000  \n",
       "50%                20.990000  \n",
       "75%                25.990000  \n",
       "max                29.990000  "
      ]
     },
     "execution_count": 46,
     "metadata": {},
     "output_type": "execute_result"
    }
   ],
   "source": [
    "df.describe()"
   ]
  },
  {
   "cell_type": "markdown",
   "id": "fd282efe",
   "metadata": {},
   "source": [
    "## Numerical analysis and visualization"
   ]
  },
  {
   "cell_type": "code",
   "execution_count": 47,
   "id": "4b709c69",
   "metadata": {},
   "outputs": [
    {
     "data": {
      "text/plain": [
       "count    16044.000000\n",
       "mean         2.942630\n",
       "std          1.649678\n",
       "min          0.990000\n",
       "25%          0.990000\n",
       "50%          2.990000\n",
       "75%          4.990000\n",
       "max          4.990000\n",
       "Name: film_rental_rate, dtype: float64"
      ]
     },
     "execution_count": 47,
     "metadata": {},
     "output_type": "execute_result"
    }
   ],
   "source": [
    "df['film_rental_rate'].describe()"
   ]
  },
  {
   "cell_type": "code",
   "execution_count": 48,
   "id": "bc645e1f",
   "metadata": {},
   "outputs": [
    {
     "data": {
      "text/plain": [
       "<AxesSubplot:>"
      ]
     },
     "execution_count": 48,
     "metadata": {},
     "output_type": "execute_result"
    },
    {
     "data": {
      "image/png": "[encoded data removed]",
      "text/plain": [
       "<Figure size 1008x432 with 1 Axes>"
      ]
     },
     "metadata": {
      "needs_background": "light"
     },
     "output_type": "display_data"
    }
   ],
   "source": [
    "df['film_rental_rate'].plot(kind='box', vert=False, figsize=(14,6))"
   ]
  },
  {
   "cell_type": "code",
   "execution_count": 49,
   "id": "4ad00f50",
   "metadata": {},
   "outputs": [
    {
     "data": {
      "text/plain": [
       "<AxesSubplot:ylabel='Density'>"
      ]
     },
     "execution_count": 49,
     "metadata": {},
     "output_type": "execute_result"
    },
    {
     "data": {
      "image/png": "[encoded data removed]",
      "text/plain": [
       "<Figure size 1008x432 with 1 Axes>"
      ]
     },
     "metadata": {
      "needs_background": "light"
     },
     "output_type": "display_data"
    }
   ],
   "source": [
    "df['film_rental_rate'].plot(kind='density', figsize=(14,6)) # kde"
   ]
  },
  {
   "cell_type": "code",
   "execution_count": 50,
   "id": "3bd2b5b6",
   "metadata": {},
   "outputs": [
    {
     "data": {
      "text/plain": [
       "Text(0, 0.5, 'Number of Rentals')"
      ]
     },
     "execution_count": 50,
     "metadata": {},
     "output_type": "execute_result"
    },
    {
     "data": {
      "image/png": "[encoded data removed]",
      "text/plain": [
       "<Figure size 1008x432 with 1 Axes>"
      ]
     },
     "metadata": {
      "needs_background": "light"
     },
     "output_type": "display_data"
    }
   ],
   "source": [
    "ax = df['film_rental_rate'].value_counts().plot(kind='bar', figsize=(14,6))\n",
    "ax.set_ylabel('Number of Rentals')"
   ]
  },
  {
   "cell_type": "markdown",
   "id": "f2c94748",
   "metadata": {},
   "source": [
    "## Categorical analysis and visualization"
   ]
  },
  {
   "cell_type": "code",
   "execution_count": 51,
   "id": "8b81042e",
   "metadata": {},
   "outputs": [
    {
     "data": {
      "text/plain": [
       "Woodridge     8121\n",
       "Lethbridge    7923\n",
       "Name: rental_store_city, dtype: int64"
      ]
     },
     "execution_count": 51,
     "metadata": {},
     "output_type": "execute_result"
    }
   ],
   "source": [
    "df['rental_store_city'].value_counts()"
   ]
  },
  {
   "cell_type": "code",
   "execution_count": 52,
   "id": "918b69af",
   "metadata": {},
   "outputs": [
    {
     "data": {
      "text/plain": [
       "<AxesSubplot:ylabel='rental_store_city'>"
      ]
     },
     "execution_count": 52,
     "metadata": {},
     "output_type": "execute_result"
    },
    {
     "data": {
      "image/png": "[encoded data removed]",
      "text/plain": [
       "<Figure size 432x432 with 1 Axes>"
      ]
     },
     "metadata": {},
     "output_type": "display_data"
    }
   ],
   "source": [
    "df['rental_store_city'].value_counts().plot(kind='pie', figsize=(6,6))"
   ]
  },
  {
   "cell_type": "code",
   "execution_count": 56,
   "id": "b2a65d2a",
   "metadata": {},
   "outputs": [
    {
     "data": {
      "text/plain": [
       "Text(0, 0.5, 'Number of Rentals')"
      ]
     },
     "execution_count": 56,
     "metadata": {},
     "output_type": "execute_result"
    },
    {
     "data": {
      "image/png": "[encoded data removed]",
      "text/plain": [
       "<Figure size 576x432 with 1 Axes>"
      ]
     },
     "metadata": {
      "needs_background": "light"
     },
     "output_type": "display_data"
    }
   ],
   "source": [
    "ax = df['rental_store_city'].value_counts().plot(kind='bar', figsize=(8,6))\n",
    "ax.set_ylabel('Number of Rentals')"
   ]
  },
  {
   "cell_type": "markdown",
   "id": "ce26bcdc",
   "metadata": {},
   "source": [
    "## Column wrangling"
   ]
  },
  {
   "cell_type": "code",
   "execution_count": 57,
   "id": "4df380e3",
   "metadata": {},
   "outputs": [
    {
     "data": {
      "text/plain": [
       "rental_id\n",
       "1    13.597090\n",
       "2    17.598587\n",
       "3    19.946631\n",
       "4     4.502046\n",
       "5     9.969990\n",
       "Name: rental_gain_return, dtype: float64"
      ]
     },
     "execution_count": 57,
     "metadata": {},
     "output_type": "execute_result"
    }
   ],
   "source": [
    "df['rental_gain_return'] = df['film_rental_rate'] / df['film_replacement_cost'] * 100\n",
    "\n",
    "df['rental_gain_return'].head()"
   ]
  },
  {
   "cell_type": "code",
   "execution_count": 58,
   "id": "09f699db",
   "metadata": {},
   "outputs": [
    {
     "data": {
      "text/plain": [
       "<AxesSubplot:ylabel='Density'>"
      ]
     },
     "execution_count": 58,
     "metadata": {},
     "output_type": "execute_result"
    },
    {
     "data": {
      "image/png": "[encoded data removed]",
      "text/plain": [
       "<Figure size 1008x432 with 1 Axes>"
      ]
     },
     "metadata": {
      "needs_background": "light"
     },
     "output_type": "display_data"
    }
   ],
   "source": [
    "df['rental_gain_return'].plot(kind='density', figsize=(14,6))"
   ]
  },
  {
   "cell_type": "code",
   "execution_count": 62,
   "id": "d4202625",
   "metadata": {},
   "outputs": [
    {
     "data": {
      "text/plain": [
       "16.34"
      ]
     },
     "execution_count": 62,
     "metadata": {},
     "output_type": "execute_result"
    }
   ],
   "source": [
    "round(df['rental_gain_return'].mean(),2)"
   ]
  },
  {
   "cell_type": "code",
   "execution_count": 63,
   "id": "ea1a749a",
   "metadata": {},
   "outputs": [
    {
     "data": {
      "text/plain": [
       "<matplotlib.lines.Line2D at 0x23d2c8dc8b0>"
      ]
     },
     "execution_count": 63,
     "metadata": {},
     "output_type": "execute_result"
    },
    {
     "data": {
      "image/png": "[encoded data removed]",
      "text/plain": [
       "<Figure size 1008x432 with 1 Axes>"
      ]
     },
     "metadata": {
      "needs_background": "light"
     },
     "output_type": "display_data"
    }
   ],
   "source": [
    "ax = df['rental_gain_return'].plot(kind='density', figsize=(14,6)) # kde\n",
    "ax.axvline(df['rental_gain_return'].mean(), color='red')\n",
    "ax.axvline(df['rental_gain_return'].median(), color='green')"
   ]
  },
  {
   "cell_type": "markdown",
   "id": "1131c5e5",
   "metadata": {},
   "source": [
    "## Selection & Indexing:"
   ]
  },
  {
   "cell_type": "code",
   "execution_count": 64,
   "id": "5179c51c",
   "metadata": {},
   "outputs": [
    {
     "data": {
      "text/html": [
       "<div>\n",
       "<style scoped>\n",
       "    .dataframe tbody tr th:only-of-type {\n",
       "        vertical-align: middle;\n",
       "    }\n",
       "\n",
       "    .dataframe tbody tr th {\n",
       "        vertical-align: top;\n",
       "    }\n",
       "\n",
       "    .dataframe thead th {\n",
       "        text-align: right;\n",
       "    }\n",
       "</style>\n",
       "<table border=\"1\" class=\"dataframe\">\n",
       "  <thead>\n",
       "    <tr style=\"text-align: right;\">\n",
       "      <th></th>\n",
       "      <th>rental_date</th>\n",
       "      <th>return_date</th>\n",
       "      <th>customer_lastname</th>\n",
       "      <th>store_id</th>\n",
       "      <th>rental_store_city</th>\n",
       "      <th>film_title</th>\n",
       "      <th>film_rental_duration</th>\n",
       "      <th>film_rental_rate</th>\n",
       "      <th>film_replacement_cost</th>\n",
       "      <th>film_rating</th>\n",
       "      <th>rental_gain_return</th>\n",
       "    </tr>\n",
       "    <tr>\n",
       "      <th>rental_id</th>\n",
       "      <th></th>\n",
       "      <th></th>\n",
       "      <th></th>\n",
       "      <th></th>\n",
       "      <th></th>\n",
       "      <th></th>\n",
       "      <th></th>\n",
       "      <th></th>\n",
       "      <th></th>\n",
       "      <th></th>\n",
       "      <th></th>\n",
       "    </tr>\n",
       "  </thead>\n",
       "  <tbody>\n",
       "    <tr>\n",
       "      <th>5</th>\n",
       "      <td>2005-05-24 23:05:21</td>\n",
       "      <td>2005-06-02 04:33:21</td>\n",
       "      <td>HANSEN</td>\n",
       "      <td>2</td>\n",
       "      <td>Woodridge</td>\n",
       "      <td>IDOLS SNATCHERS</td>\n",
       "      <td>5</td>\n",
       "      <td>2.99</td>\n",
       "      <td>29.99</td>\n",
       "      <td>NC-17</td>\n",
       "      <td>9.969990</td>\n",
       "    </tr>\n",
       "    <tr>\n",
       "      <th>134</th>\n",
       "      <td>2005-05-25 21:48:41</td>\n",
       "      <td>2005-06-02 18:28:41</td>\n",
       "      <td>HANSEN</td>\n",
       "      <td>2</td>\n",
       "      <td>Woodridge</td>\n",
       "      <td>JUMPING WRATH</td>\n",
       "      <td>4</td>\n",
       "      <td>0.99</td>\n",
       "      <td>18.99</td>\n",
       "      <td>NC-17</td>\n",
       "      <td>5.213270</td>\n",
       "    </tr>\n",
       "    <tr>\n",
       "      <th>416</th>\n",
       "      <td>2005-05-27 15:02:10</td>\n",
       "      <td>2005-05-29 10:34:10</td>\n",
       "      <td>HANSEN</td>\n",
       "      <td>2</td>\n",
       "      <td>Woodridge</td>\n",
       "      <td>LESSON CLEOPATRA</td>\n",
       "      <td>3</td>\n",
       "      <td>0.99</td>\n",
       "      <td>28.99</td>\n",
       "      <td>NC-17</td>\n",
       "      <td>3.414971</td>\n",
       "    </tr>\n",
       "    <tr>\n",
       "      <th>809</th>\n",
       "      <td>2005-05-29 19:10:20</td>\n",
       "      <td>2005-06-05 19:05:20</td>\n",
       "      <td>HANSEN</td>\n",
       "      <td>2</td>\n",
       "      <td>Woodridge</td>\n",
       "      <td>INDIAN LOVE</td>\n",
       "      <td>4</td>\n",
       "      <td>0.99</td>\n",
       "      <td>26.99</td>\n",
       "      <td>NC-17</td>\n",
       "      <td>3.668025</td>\n",
       "    </tr>\n",
       "    <tr>\n",
       "      <th>1006</th>\n",
       "      <td>2005-05-31 00:57:08</td>\n",
       "      <td>2005-06-02 22:35:08</td>\n",
       "      <td>HANSEN</td>\n",
       "      <td>2</td>\n",
       "      <td>Woodridge</td>\n",
       "      <td>SALUTE APOLLO</td>\n",
       "      <td>4</td>\n",
       "      <td>2.99</td>\n",
       "      <td>29.99</td>\n",
       "      <td>R</td>\n",
       "      <td>9.969990</td>\n",
       "    </tr>\n",
       "    <tr>\n",
       "      <th>1368</th>\n",
       "      <td>2005-06-15 14:27:47</td>\n",
       "      <td>2005-06-23 18:07:47</td>\n",
       "      <td>HANSEN</td>\n",
       "      <td>1</td>\n",
       "      <td>Lethbridge</td>\n",
       "      <td>HUNCHBACK IMPOSSIBLE</td>\n",
       "      <td>4</td>\n",
       "      <td>4.99</td>\n",
       "      <td>28.99</td>\n",
       "      <td>PG-13</td>\n",
       "      <td>17.212832</td>\n",
       "    </tr>\n",
       "    <tr>\n",
       "      <th>2603</th>\n",
       "      <td>2005-06-19 06:21:25</td>\n",
       "      <td>2005-06-26 03:19:25</td>\n",
       "      <td>HANSEN</td>\n",
       "      <td>2</td>\n",
       "      <td>Woodridge</td>\n",
       "      <td>CAT CONEHEADS</td>\n",
       "      <td>5</td>\n",
       "      <td>4.99</td>\n",
       "      <td>14.99</td>\n",
       "      <td>G</td>\n",
       "      <td>33.288859</td>\n",
       "    </tr>\n",
       "    <tr>\n",
       "      <th>5209</th>\n",
       "      <td>2005-07-09 11:22:39</td>\n",
       "      <td>2005-07-17 09:31:39</td>\n",
       "      <td>HANSEN</td>\n",
       "      <td>1</td>\n",
       "      <td>Lethbridge</td>\n",
       "      <td>WHALE BIKINI</td>\n",
       "      <td>4</td>\n",
       "      <td>4.99</td>\n",
       "      <td>11.99</td>\n",
       "      <td>PG-13</td>\n",
       "      <td>41.618015</td>\n",
       "    </tr>\n",
       "    <tr>\n",
       "      <th>5266</th>\n",
       "      <td>2005-07-09 14:17:40</td>\n",
       "      <td>2005-07-16 10:42:40</td>\n",
       "      <td>HANSEN</td>\n",
       "      <td>2</td>\n",
       "      <td>Woodridge</td>\n",
       "      <td>LOATHING LEGALLY</td>\n",
       "      <td>4</td>\n",
       "      <td>0.99</td>\n",
       "      <td>29.99</td>\n",
       "      <td>R</td>\n",
       "      <td>3.301100</td>\n",
       "    </tr>\n",
       "    <tr>\n",
       "      <th>5592</th>\n",
       "      <td>2005-07-10 04:26:13</td>\n",
       "      <td>2005-07-19 02:32:13</td>\n",
       "      <td>HANSEN</td>\n",
       "      <td>2</td>\n",
       "      <td>Woodridge</td>\n",
       "      <td>LUKE MUMMY</td>\n",
       "      <td>5</td>\n",
       "      <td>2.99</td>\n",
       "      <td>21.99</td>\n",
       "      <td>NC-17</td>\n",
       "      <td>13.597090</td>\n",
       "    </tr>\n",
       "    <tr>\n",
       "      <th>5635</th>\n",
       "      <td>2005-07-10 06:28:39</td>\n",
       "      <td>2005-07-17 08:35:39</td>\n",
       "      <td>HANSEN</td>\n",
       "      <td>2</td>\n",
       "      <td>Woodridge</td>\n",
       "      <td>FISH OPUS</td>\n",
       "      <td>4</td>\n",
       "      <td>2.99</td>\n",
       "      <td>22.99</td>\n",
       "      <td>R</td>\n",
       "      <td>13.005655</td>\n",
       "    </tr>\n",
       "    <tr>\n",
       "      <th>6129</th>\n",
       "      <td>2005-07-11 08:15:09</td>\n",
       "      <td>2005-07-18 13:00:09</td>\n",
       "      <td>HANSEN</td>\n",
       "      <td>2</td>\n",
       "      <td>Woodridge</td>\n",
       "      <td>STOCK GLASS</td>\n",
       "      <td>7</td>\n",
       "      <td>2.99</td>\n",
       "      <td>10.99</td>\n",
       "      <td>PG</td>\n",
       "      <td>27.206551</td>\n",
       "    </tr>\n",
       "    <tr>\n",
       "      <th>6497</th>\n",
       "      <td>2005-07-12 03:04:29</td>\n",
       "      <td>2005-07-17 21:36:29</td>\n",
       "      <td>HANSEN</td>\n",
       "      <td>2</td>\n",
       "      <td>Woodridge</td>\n",
       "      <td>DANCING FEVER</td>\n",
       "      <td>6</td>\n",
       "      <td>0.99</td>\n",
       "      <td>25.99</td>\n",
       "      <td>G</td>\n",
       "      <td>3.809157</td>\n",
       "    </tr>\n",
       "    <tr>\n",
       "      <th>7786</th>\n",
       "      <td>2005-07-28 07:18:26</td>\n",
       "      <td>2005-07-29 03:00:26</td>\n",
       "      <td>HANSEN</td>\n",
       "      <td>2</td>\n",
       "      <td>Woodridge</td>\n",
       "      <td>KARATE MOON</td>\n",
       "      <td>4</td>\n",
       "      <td>0.99</td>\n",
       "      <td>21.99</td>\n",
       "      <td>PG-13</td>\n",
       "      <td>4.502046</td>\n",
       "    </tr>\n",
       "    <tr>\n",
       "      <th>8300</th>\n",
       "      <td>2005-07-29 02:57:59</td>\n",
       "      <td>2005-08-05 01:12:59</td>\n",
       "      <td>HANSEN</td>\n",
       "      <td>2</td>\n",
       "      <td>Woodridge</td>\n",
       "      <td>VOYAGE LEGALLY</td>\n",
       "      <td>6</td>\n",
       "      <td>0.99</td>\n",
       "      <td>28.99</td>\n",
       "      <td>PG-13</td>\n",
       "      <td>3.414971</td>\n",
       "    </tr>\n",
       "    <tr>\n",
       "      <th>8597</th>\n",
       "      <td>2005-07-29 12:55:55</td>\n",
       "      <td>2005-08-05 18:54:55</td>\n",
       "      <td>HANSEN</td>\n",
       "      <td>1</td>\n",
       "      <td>Lethbridge</td>\n",
       "      <td>TUXEDO MILE</td>\n",
       "      <td>3</td>\n",
       "      <td>2.99</td>\n",
       "      <td>24.99</td>\n",
       "      <td>R</td>\n",
       "      <td>11.964786</td>\n",
       "    </tr>\n",
       "    <tr>\n",
       "      <th>8787</th>\n",
       "      <td>2005-07-29 20:43:49</td>\n",
       "      <td>2005-07-31 15:15:49</td>\n",
       "      <td>HANSEN</td>\n",
       "      <td>2</td>\n",
       "      <td>Woodridge</td>\n",
       "      <td>LEGALLY SECRETARY</td>\n",
       "      <td>7</td>\n",
       "      <td>4.99</td>\n",
       "      <td>14.99</td>\n",
       "      <td>PG</td>\n",
       "      <td>33.288859</td>\n",
       "    </tr>\n",
       "    <tr>\n",
       "      <th>10043</th>\n",
       "      <td>2005-07-31 19:02:07</td>\n",
       "      <td>2005-08-07 17:58:07</td>\n",
       "      <td>HANSEN</td>\n",
       "      <td>2</td>\n",
       "      <td>Woodridge</td>\n",
       "      <td>MARS ROMAN</td>\n",
       "      <td>6</td>\n",
       "      <td>0.99</td>\n",
       "      <td>21.99</td>\n",
       "      <td>NC-17</td>\n",
       "      <td>4.502046</td>\n",
       "    </tr>\n",
       "    <tr>\n",
       "      <th>12179</th>\n",
       "      <td>2005-08-18 01:21:21</td>\n",
       "      <td>2005-08-19 00:59:21</td>\n",
       "      <td>HANSEN</td>\n",
       "      <td>2</td>\n",
       "      <td>Woodridge</td>\n",
       "      <td>FOREVER CANDIDATE</td>\n",
       "      <td>7</td>\n",
       "      <td>2.99</td>\n",
       "      <td>28.99</td>\n",
       "      <td>NC-17</td>\n",
       "      <td>10.313901</td>\n",
       "    </tr>\n",
       "    <tr>\n",
       "      <th>13477</th>\n",
       "      <td>2005-08-20 01:07:00</td>\n",
       "      <td>2005-08-26 02:47:00</td>\n",
       "      <td>HANSEN</td>\n",
       "      <td>2</td>\n",
       "      <td>Woodridge</td>\n",
       "      <td>FINDING ANACONDA</td>\n",
       "      <td>4</td>\n",
       "      <td>0.99</td>\n",
       "      <td>10.99</td>\n",
       "      <td>R</td>\n",
       "      <td>9.008189</td>\n",
       "    </tr>\n",
       "    <tr>\n",
       "      <th>14350</th>\n",
       "      <td>2005-08-21 08:58:38</td>\n",
       "      <td>2005-08-30 03:29:38</td>\n",
       "      <td>HANSEN</td>\n",
       "      <td>1</td>\n",
       "      <td>Lethbridge</td>\n",
       "      <td>PRIMARY GLASS</td>\n",
       "      <td>7</td>\n",
       "      <td>0.99</td>\n",
       "      <td>16.99</td>\n",
       "      <td>G</td>\n",
       "      <td>5.826957</td>\n",
       "    </tr>\n",
       "  </tbody>\n",
       "</table>\n",
       "</div>"
      ],
      "text/plain": [
       "                  rental_date         return_date customer_lastname  store_id  \\\n",
       "rental_id                                                                       \n",
       "5         2005-05-24 23:05:21 2005-06-02 04:33:21            HANSEN         2   \n",
       "134       2005-05-25 21:48:41 2005-06-02 18:28:41            HANSEN         2   \n",
       "416       2005-05-27 15:02:10 2005-05-29 10:34:10            HANSEN         2   \n",
       "809       2005-05-29 19:10:20 2005-06-05 19:05:20            HANSEN         2   \n",
       "1006      2005-05-31 00:57:08 2005-06-02 22:35:08            HANSEN         2   \n",
       "1368      2005-06-15 14:27:47 2005-06-23 18:07:47            HANSEN         1   \n",
       "2603      2005-06-19 06:21:25 2005-06-26 03:19:25            HANSEN         2   \n",
       "5209      2005-07-09 11:22:39 2005-07-17 09:31:39            HANSEN         1   \n",
       "5266      2005-07-09 14:17:40 2005-07-16 10:42:40            HANSEN         2   \n",
       "5592      2005-07-10 04:26:13 2005-07-19 02:32:13            HANSEN         2   \n",
       "5635      2005-07-10 06:28:39 2005-07-17 08:35:39            HANSEN         2   \n",
       "6129      2005-07-11 08:15:09 2005-07-18 13:00:09            HANSEN         2   \n",
       "6497      2005-07-12 03:04:29 2005-07-17 21:36:29            HANSEN         2   \n",
       "7786      2005-07-28 07:18:26 2005-07-29 03:00:26            HANSEN         2   \n",
       "8300      2005-07-29 02:57:59 2005-08-05 01:12:59            HANSEN         2   \n",
       "8597      2005-07-29 12:55:55 2005-08-05 18:54:55            HANSEN         1   \n",
       "8787      2005-07-29 20:43:49 2005-07-31 15:15:49            HANSEN         2   \n",
       "10043     2005-07-31 19:02:07 2005-08-07 17:58:07            HANSEN         2   \n",
       "12179     2005-08-18 01:21:21 2005-08-19 00:59:21            HANSEN         2   \n",
       "13477     2005-08-20 01:07:00 2005-08-26 02:47:00            HANSEN         2   \n",
       "14350     2005-08-21 08:58:38 2005-08-30 03:29:38            HANSEN         1   \n",
       "\n",
       "          rental_store_city            film_title  film_rental_duration  \\\n",
       "rental_id                                                                 \n",
       "5                 Woodridge       IDOLS SNATCHERS                     5   \n",
       "134               Woodridge         JUMPING WRATH                     4   \n",
       "416               Woodridge      LESSON CLEOPATRA                     3   \n",
       "809               Woodridge           INDIAN LOVE                     4   \n",
       "1006              Woodridge         SALUTE APOLLO                     4   \n",
       "1368             Lethbridge  HUNCHBACK IMPOSSIBLE                     4   \n",
       "2603              Woodridge         CAT CONEHEADS                     5   \n",
       "5209             Lethbridge          WHALE BIKINI                     4   \n",
       "5266              Woodridge      LOATHING LEGALLY                     4   \n",
       "5592              Woodridge            LUKE MUMMY                     5   \n",
       "5635              Woodridge             FISH OPUS                     4   \n",
       "6129              Woodridge           STOCK GLASS                     7   \n",
       "6497              Woodridge         DANCING FEVER                     6   \n",
       "7786              Woodridge           KARATE MOON                     4   \n",
       "8300              Woodridge        VOYAGE LEGALLY                     6   \n",
       "8597             Lethbridge           TUXEDO MILE                     3   \n",
       "8787              Woodridge     LEGALLY SECRETARY                     7   \n",
       "10043             Woodridge            MARS ROMAN                     6   \n",
       "12179             Woodridge     FOREVER CANDIDATE                     7   \n",
       "13477             Woodridge      FINDING ANACONDA                     4   \n",
       "14350            Lethbridge         PRIMARY GLASS                     7   \n",
       "\n",
       "           film_rental_rate  film_replacement_cost film_rating  \\\n",
       "rental_id                                                        \n",
       "5                      2.99                  29.99       NC-17   \n",
       "134                    0.99                  18.99       NC-17   \n",
       "416                    0.99                  28.99       NC-17   \n",
       "809                    0.99                  26.99       NC-17   \n",
       "1006                   2.99                  29.99           R   \n",
       "1368                   4.99                  28.99       PG-13   \n",
       "2603                   4.99                  14.99           G   \n",
       "5209                   4.99                  11.99       PG-13   \n",
       "5266                   0.99                  29.99           R   \n",
       "5592                   2.99                  21.99       NC-17   \n",
       "5635                   2.99                  22.99           R   \n",
       "6129                   2.99                  10.99          PG   \n",
       "6497                   0.99                  25.99           G   \n",
       "7786                   0.99                  21.99       PG-13   \n",
       "8300                   0.99                  28.99       PG-13   \n",
       "8597                   2.99                  24.99           R   \n",
       "8787                   4.99                  14.99          PG   \n",
       "10043                  0.99                  21.99       NC-17   \n",
       "12179                  2.99                  28.99       NC-17   \n",
       "13477                  0.99                  10.99           R   \n",
       "14350                  0.99                  16.99           G   \n",
       "\n",
       "           rental_gain_return  \n",
       "rental_id                      \n",
       "5                    9.969990  \n",
       "134                  5.213270  \n",
       "416                  3.414971  \n",
       "809                  3.668025  \n",
       "1006                 9.969990  \n",
       "1368                17.212832  \n",
       "2603                33.288859  \n",
       "5209                41.618015  \n",
       "5266                 3.301100  \n",
       "5592                13.597090  \n",
       "5635                13.005655  \n",
       "6129                27.206551  \n",
       "6497                 3.809157  \n",
       "7786                 4.502046  \n",
       "8300                 3.414971  \n",
       "8597                11.964786  \n",
       "8787                33.288859  \n",
       "10043                4.502046  \n",
       "12179               10.313901  \n",
       "13477                9.008189  \n",
       "14350                5.826957  "
      ]
     },
     "execution_count": 64,
     "metadata": {},
     "output_type": "execute_result"
    }
   ],
   "source": [
    "df.loc[df['customer_lastname'] == 'HANSEN']"
   ]
  },
  {
   "cell_type": "code",
   "execution_count": 65,
   "id": "eb1deca9",
   "metadata": {},
   "outputs": [
    {
     "data": {
      "text/plain": [
       "array(['IDOLS SNATCHERS', 'LAWLESS VISION', 'SONG HEDWIG',\n",
       "       'LOATHING LEGALLY', 'PATIENT SISTER', 'RESERVOIR ADAPTATION',\n",
       "       'JEEPERS WEDDING', 'GOLDFINGER SENSIBILITY', 'CHARIOTS CONSPIRACY',\n",
       "       'HONEY TIES', 'GRAFFITI LOVE', 'SLACKER LIAISONS', 'DIRTY ACE',\n",
       "       'BLINDNESS GUN', 'WYOMING STORM', 'FEUD FROGMEN', 'SALUTE APOLLO',\n",
       "       'JINGLE SAGEBRUSH', 'HILLS NEIGHBORS', 'UNCUT SUICIDES',\n",
       "       'EVERYONE CRAFT', 'FLATLINERS KILLER', 'BALLROOM MOCKINGBIRD',\n",
       "       'RIVER OUTLAW', 'ARABIA DOGMA', 'VIRGIN DAISY', 'JERICHO MULAN',\n",
       "       'SASSY PACKER', 'TRACY CIDER', 'LOVER TRUMAN', 'DOCTOR GRAIL',\n",
       "       'GILMORE BOILED', 'PRINCESS GIANT', 'CRUELTY UNFORGIVEN',\n",
       "       'REIGN GENTLEMEN', 'WEST LION', 'BONNIE HOLOCAUST', 'EARTH VISION',\n",
       "       'RANDOM GO', 'CLOCKWORK PARADISE', 'FANTASIA PARK', 'RIGHT CRANES',\n",
       "       'CUPBOARD SINNERS', 'OSCAR GOLD', 'SMILE EARRING',\n",
       "       'HOLLYWOOD ANONYMOUS', 'POSEIDON FOREVER',\n",
       "       'EXTRAORDINARY CONQUERER', 'QUEST MUSSOLINI', 'JAPANESE RUN',\n",
       "       'CLYDE THEORY', 'DESPERATE TRAINSPOTTING'], dtype=object)"
      ]
     },
     "execution_count": 65,
     "metadata": {},
     "output_type": "execute_result"
    }
   ],
   "source": [
    "# Create a list of all the films with the highest replacement cost\n",
    "df['film_replacement_cost'].max()\n",
    "\n",
    "df.loc[df['film_replacement_cost'] == df['film_replacement_cost'].max(), 'film_title'].unique()"
   ]
  },
  {
   "cell_type": "code",
   "execution_count": 66,
   "id": "a7ee988e",
   "metadata": {},
   "outputs": [
    {
     "data": {
      "text/plain": [
       "6797"
      ]
     },
     "execution_count": 66,
     "metadata": {},
     "output_type": "execute_result"
    }
   ],
   "source": [
    "# How many PG or PG-13 rating films were rented\n",
    "df.loc[(df['film_rating'] == 'PG') | (df['film_rating'] == 'PG-13')].shape[0]"
   ]
  }
 ],
 "metadata": {
  "kernelspec": {
   "display_name": "Python 3 (ipykernel)",
   "language": "python",
   "name": "python3"
  },
  "language_info": {
   "codemirror_mode": {
    "name": "ipython",
    "version": 3
   },
   "file_extension": ".py",
   "mimetype": "text/x-python",
   "name": "python",
   "nbconvert_exporter": "python",
   "pygments_lexer": "ipython3",
   "version": "3.9.12"
  }
 },
 "nbformat": 4,
 "nbformat_minor": 5
}
